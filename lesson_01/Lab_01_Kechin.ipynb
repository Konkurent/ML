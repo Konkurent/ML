{
  "nbformat": 4,
  "nbformat_minor": 5,
  "metadata": {
    "kernelspec": {
      "display_name": "Python 3",
      "language": "python",
      "name": "python3"
    },
    "language_info": {
      "codemirror_mode": {
        "name": "ipython",
        "version": 3
      },
      "file_extension": ".py",
      "mimetype": "text/x-python",
      "name": "python",
      "nbconvert_exporter": "python",
      "pygments_lexer": "ipython3",
      "version": "3.5.6"
    },
    "colab": {
      "name": "Lab-01_after-14-09-2021.ipynb",
      "provenance": [],
      "collapsed_sections": []
    }
  },
  "cells": [
    {
      "cell_type": "markdown",
      "metadata": {
        "id": "04c9d957"
      },
      "source": [
        "`Дисциплина: Методы и технологии машинного обучения`   \n",
        "`Уровень подготовки: бакалавриат`   \n",
        "`Направление подготовки: 01.03.02 Прикладная математика и информатика`   \n",
        "`Семестр: осень 2021/2022`   \n",
        "\n",
        "**Работу выполнил Кечин Дмитрий**\n",
        "\n",
        "\n",
        "# Лабораторная работа №1: Оценка точности модели с непрерывной зависимой переменной\n",
        "\n",
        "В практических примерах ниже показано:   \n",
        "\n",
        "* как делить данные на выборки (обучающую и тестовую);  \n",
        "* как считать MSE: среднеквадратическую ошибку модели;  \n",
        "* как меняются MSE на тестовой и обучающей выборках с изменением гибкости (числа степеней свободы) модели.  \n",
        "\n",
        "*Модели*: сглаживающие сплайны.   \n",
        "*Данные*: сгенерированные.   \n",
        "\n",
        "**Задача 1**. На данных своего варианта (см. второй столбец таблицы с вариантами) повторить расчёты и построить графики из первой лабораторной. Пояснить выбор наилучшего количества степеней свободы.\n",
        "\n",
        "**Задача 2**. Повторить расчёты, меняя характеристики согласно своему варианту (см. последний столбец таблицы с вариантами). Проанализировать, как меняется MSE при изменении характеристик. \n",
        "\n",
        "Вариант 10:\n",
        "* Задача 1: $f(X) = 6 + 3.5 \\cdot \\cos{\\Big ( {x - 30 \\over 12 } \\Big )}$\n",
        "* Задача 2: $n\\_all = 150$, $n\\_all = 100$, $n\\_all = 50$ \n",
        "\n",
        "\n",
        "### Генерируем исходные данные"
      ],
      "id": "04c9d957"
    },
    {
      "cell_type": "code",
      "metadata": {
        "id": "836f7670"
      },
      "source": [
        "# загрузка пакетов\n",
        "import numpy as np\n",
        "import random\n",
        "import matplotlib.pyplot as plt\n",
        "from pandas import DataFrame\n",
        "import rpy2.robjects as robjects"
      ],
      "id": "836f7670",
      "execution_count": 89,
      "outputs": []
    },
    {
      "cell_type": "code",
      "metadata": {
        "id": "c126100f"
      },
      "source": [
        "# задаём ядро генератора случайных чисел (внимание: не глобально)\n",
        "np.random.seed(10)\n",
        "\n",
        "# всего наблюдений, доля обучающей выборки\n",
        "n_all, train_percent = 60, 0.85\n",
        "\n",
        "# параметры распределения X\n",
        "x_min, x_max = 5, 105\n",
        "\n",
        "# генерируем X\n",
        "x = np.random.uniform(x_min, x_max, n_all)\n",
        "\n",
        "# генерируем случайный шум\n",
        "mu, sigma = 0, 1\n",
        "res = np.random.normal(mu, sigma, n_all)\n",
        "\n",
        "# отбираем наблюдения в обучающую выборку\n",
        "in_train = np.random.choice(np.arange(n_all), int(n_all * train_percent), replace = False)\n",
        "\n",
        "# истинная функция взаимосвязи\n",
        "def y_func (x) :\n",
        "    return(6 + 3.5 * np.cos((x - 30) / 12))\n",
        "    \n",
        "# для графика истинной взаимосвязи\n",
        "x_line = np.linspace(x_min, x_max, n_all)\n",
        "y_line = y_func(x_line)\n",
        "\n",
        "# фактические значения y (с шумом)\n",
        "y = y_func(x) + res\n",
        "\n",
        "# создаём векторы с данными для построения графиков\n",
        "# наблюдения на обучающей выборке\n",
        "x_train = x[in_train]\n",
        "y_train = y[in_train]\n",
        "\n",
        "# наблюдения на тестовой выборке\n",
        "x_test = np.delete(x, in_train)\n",
        "y_test = np.delete(y, in_train)"
      ],
      "id": "c126100f",
      "execution_count": 90,
      "outputs": []
    },
    {
      "cell_type": "markdown",
      "metadata": {
        "id": "e20db39b"
      },
      "source": [
        "\n",
        "\n",
        "### Строим графики   \n",
        "\n",
        "Изобразим исходные данные на графике.   "
      ],
      "id": "e20db39b"
    },
    {
      "cell_type": "code",
      "metadata": {
        "id": "e8608bf7"
      },
      "source": [
        "# загрузка пакетов\n",
        "import matplotlib.pyplot as plt"
      ],
      "id": "e8608bf7",
      "execution_count": 91,
      "outputs": []
    },
    {
      "cell_type": "code",
      "metadata": {
        "colab": {
          "base_uri": "https://localhost:8080/",
          "height": 279
        },
        "id": "9ab41dda",
        "outputId": "2b195374-99c3-461f-9bff-a521a79913bd"
      },
      "source": [
        "# график 1: исходные данные\n",
        "#  обучающая выборка\n",
        "plt.scatter(x_train, y_train, color='black', label='обучение', alpha=0.6)\n",
        "#  тестовая выборка\n",
        "plt.scatter(x_test, y_test, color='red', label='тест', alpha=0.6)\n",
        "#  истинная функция взаимосвязи\n",
        "plt.plot(x_line, y_line, color='black', linestyle='dashed', label='f(X)')\n",
        "#  подписи осей\n",
        "plt.xlabel('X')\n",
        "plt.ylabel('Y')\n",
        "\n",
        "#  легенда\n",
        "plt.legend()\n",
        "plt.show()"
      ],
      "id": "9ab41dda",
      "execution_count": 92,
      "outputs": [
        {
          "output_type": "display_data",
          "data": {
            "image/png": "[encoded data removed]",
            "text/plain": [
              "<Figure size 432x288 with 1 Axes>"
            ]
          },
          "metadata": {
            "needs_background": "light"
          }
        }
      ]
    },
    {
      "cell_type": "markdown",
      "metadata": {
        "id": "540092fa"
      },
      "source": [
        "## Обучаем модели и оцениваем их точность\n",
        "\n",
        "В качестве модели используем сплайны со степенями свободы от 2 (прямая) до 40 (количество узлов равно 2/3 наблюдений). Строим модели с различным количеством степеней свободы и в каждом случае считаем среднеквадратическую ошибку модели на обучающей и тестовой выборках.    "
      ],
      "id": "540092fa"
    },
    {
      "cell_type": "code",
      "metadata": {
        "id": "afbb2f53"
      },
      "source": [
        "# загрузка пакетов\n",
        "from pandas import DataFrame\n",
        "import rpy2.robjects as robjects"
      ],
      "id": "afbb2f53",
      "execution_count": 93,
      "outputs": []
    },
    {
      "cell_type": "code",
      "metadata": {
        "colab": {
          "base_uri": "https://localhost:8080/",
          "height": 279
        },
        "id": "c41bc6a8",
        "outputId": "53bfe1d0-d407-446f-c4dd-be3e6fae6e4b"
      },
      "source": [
        "# модель натурального сплайна с заданным количеством узлов (df)\n",
        "my_df = 38\n",
        "\n",
        "# сохраняем индексы отсортированного по возрастанию x из обучающей выборки\n",
        "x_sorted_index = sorted(range(len(x_train)), key=lambda k: x_train[k])\n",
        "\n",
        "# равноотстоящие координаты по X для прорисовки сглаженной кривой\n",
        "x_train_lin = np.linspace(min(x_train), max(x_train), num=300, endpoint=True)\n",
        "\n",
        "# создаём из данных объекты, понятные R\n",
        "r_x = robjects.FloatVector(x_train)\n",
        "r_y = robjects.FloatVector(y_train)\n",
        "\n",
        "# импортируем нужную функцию из R\n",
        "r_smooth_spline = robjects.r['smooth.spline']\n",
        "\n",
        "# строим сглаживающий сплайн\n",
        "fit = r_smooth_spline(x=r_x, y=r_y, df=my_df)\n",
        "\n",
        "# делаем прогнозы\n",
        "y_hat_train = np.array(robjects.r['predict'](fit, \n",
        "    robjects.FloatVector(x_train)).rx2('y'))\n",
        "y_hat_test = np.array(robjects.r['predict'](fit, \n",
        "    robjects.FloatVector(x_test)).rx2('y'))\n",
        "y_lin_plot = np.array(robjects.r['predict'](fit, \n",
        "    robjects.FloatVector(x_train_lin)).rx2('y'))\n",
        "\n",
        "# строим график\n",
        "plt.plot(x_train, y_train, color='black', ls='', marker='.', label='обучение')\n",
        "plt.plot(x_line, y_line, color='black', ls='dashed', marker='', label='f(X)')\n",
        "plt.plot(x_train_lin, y_lin_plot, marker='', label='сплайн с df = %s' % my_df)\n",
        "plt.plot(x_test, y_test, color='red', ls='', marker='.', label='тест факт')\n",
        "plt.plot(x_test, y_hat_test, color='red', ls='', marker='+', label='тест прогноз')\n",
        "#  подписи осей\n",
        "plt.xlabel('X')\n",
        "plt.ylabel('Y')\n",
        "# легенда\n",
        "plt.legend(loc='best')\n",
        "\n",
        "# считаем MSE\n",
        "MSE_fit = [sum((y_train - y_hat_train)**2) / len(y_train),\n",
        "          sum((y_test - y_hat_test)**2) / len(y_test)]"
      ],
      "id": "c41bc6a8",
      "execution_count": 94,
      "outputs": [
        {
          "output_type": "display_data",
          "data": {
            "image/png": "[encoded data removed]",
            "text/plain": [
              "<Figure size 432x288 with 1 Axes>"
            ]
          },
          "metadata": {
            "needs_background": "light"
          }
        }
      ]
    },
    {
      "cell_type": "markdown",
      "metadata": {
        "id": "26ea5474"
      },
      "source": [
        "Ошибки на обучающей и тестовой выборках составили соответственно:"
      ],
      "id": "26ea5474"
    },
    {
      "cell_type": "code",
      "metadata": {
        "colab": {
          "base_uri": "https://localhost:8080/"
        },
        "id": "919b04b5",
        "outputId": "17578cc9-634d-486f-b2ec-23d3603e77b0"
      },
      "source": [
        "# выводим MSE с округлением\n",
        "np.around(MSE_fit, 2)"
      ],
      "id": "919b04b5",
      "execution_count": 95,
      "outputs": [
        {
          "output_type": "execute_result",
          "data": {
            "text/plain": [
              "array([0.27, 1.45])"
            ]
          },
          "metadata": {},
          "execution_count": 95
        }
      ]
    },
    {
      "cell_type": "code",
      "metadata": {
        "id": "ea9f7476"
      },
      "source": [
        "#  Теперь строим модели с df от 2 до 40 ########################################\n",
        "\n",
        "# максимальное число степеней свободы для модели сплайна\n",
        "max_df = 40\n",
        "\n",
        "# фрейм данных для сохранения MSE на обучающей и на тестовой \n",
        "#  при разных степенях свободы\n",
        "MSE_all_dfs = [[0] * 2 for i in range(2, max_df+1)]\n",
        "MSE_all_dfs = DataFrame(MSE_all_dfs, columns=['MSE_train', 'MSE_test'],\n",
        "                       index=list(range(2, max_df+1)))\n",
        "\n",
        "# заполняем фрейм\n",
        "for i_df in range(2, max_df+1) :\n",
        "    \n",
        "    # обучаем модель\n",
        "    fit = r_smooth_spline(x=r_x, y=r_y, df=i_df)\n",
        "    \n",
        "    # прогноз на обучающей выборке\n",
        "    y_train_hat = np.array(robjects.r['predict'](fit, \n",
        "        robjects.FloatVector(x_train)).rx2('y'))\n",
        "    # прогноз на тестовой выборке\n",
        "    y_test_hat = np.array(robjects.r['predict'](fit, \n",
        "        robjects.FloatVector(x_test)).rx2('y'))\n",
        "    \n",
        "    # считаем MSE\n",
        "    MSE_all_dfs.loc[i_df, 'MSE_train'] = sum((y_train - y_train_hat)**2) / len(y_train_hat)\n",
        "    MSE_all_dfs.loc[i_df, 'MSE_test'] = sum((y_test - y_test_hat)**2) / len(y_test_hat)"
      ],
      "id": "ea9f7476",
      "execution_count": 96,
      "outputs": []
    },
    {
      "cell_type": "markdown",
      "metadata": {
        "id": "dab8ecd5"
      },
      "source": [
        "Минимум MSE на тестовой выборке достигается при числе степеней свободы:  "
      ],
      "id": "dab8ecd5"
    },
    {
      "cell_type": "code",
      "metadata": {
        "colab": {
          "base_uri": "https://localhost:8080/",
          "height": 81
        },
        "id": "4b66e934",
        "outputId": "b09d0a1a-b1e8-4cf2-f450-4bbafa8e1dcb"
      },
      "source": [
        "# фильтруем таблицу по минимальной MSE на тестовой выборке\n",
        "MSE_all_dfs[MSE_all_dfs['MSE_test'] == min(MSE_all_dfs['MSE_test'])]"
      ],
      "id": "4b66e934",
      "execution_count": 97,
      "outputs": [
        {
          "output_type": "execute_result",
          "data": {
            "text/html": [
              "<div>\n",
              "<style scoped>\n",
              "    .dataframe tbody tr th:only-of-type {\n",
              "        vertical-align: middle;\n",
              "    }\n",
              "\n",
              "    .dataframe tbody tr th {\n",
              "        vertical-align: top;\n",
              "    }\n",
              "\n",
              "    .dataframe thead th {\n",
              "        text-align: right;\n",
              "    }\n",
              "</style>\n",
              "<table border=\"1\" class=\"dataframe\">\n",
              "  <thead>\n",
              "    <tr style=\"text-align: right;\">\n",
              "      <th></th>\n",
              "      <th>MSE_train</th>\n",
              "      <th>MSE_test</th>\n",
              "    </tr>\n",
              "  </thead>\n",
              "  <tbody>\n",
              "    <tr>\n",
              "      <th>24</th>\n",
              "      <td>0.651214</td>\n",
              "      <td>0.895104</td>\n",
              "    </tr>\n",
              "  </tbody>\n",
              "</table>\n",
              "</div>"
            ],
            "text/plain": [
              "    MSE_train  MSE_test\n",
              "24   0.651214  0.895104"
            ]
          },
          "metadata": {},
          "execution_count": 97
        }
      ]
    },
    {
      "cell_type": "markdown",
      "metadata": {
        "id": "6c30c849"
      },
      "source": [
        "Изобразим на графике динамику MSE на обучающей и тестовой выборках в зависимости от степеней свободы модели. "
      ],
      "id": "6c30c849"
    },
    {
      "cell_type": "code",
      "metadata": {
        "colab": {
          "base_uri": "https://localhost:8080/",
          "height": 296
        },
        "id": "672b4efb",
        "outputId": "17416f97-090b-4df3-a4d4-e8f421bc52fb"
      },
      "source": [
        "# график изменения MSE с увеличением df\n",
        "plt.plot(MSE_all_dfs.index, MSE_all_dfs['MSE_train'], color='dimgrey', \n",
        "         marker='', label='обучение')\n",
        "plt.plot(MSE_all_dfs.index, MSE_all_dfs['MSE_test'], color='red', \n",
        "         marker='', label='тест')\n",
        "plt.plot([2, 2], [MSE_all_dfs.iloc[0]['MSE_train'], MSE_all_dfs.iloc[0]['MSE_test']],\n",
        "         ls='', marker='s', label='df=2')\n",
        "plt.plot([6, 6], [MSE_all_dfs.iloc[4]['MSE_train'], MSE_all_dfs.iloc[4]['MSE_test']],\n",
        "         ls='', marker='s', label='df=6')\n",
        "plt.plot([24, 24], [MSE_all_dfs.iloc[22]['MSE_train'], MSE_all_dfs.iloc[22]['MSE_test']],\n",
        "         ls='', marker='s', label='df=24')\n",
        "plt.hlines(1, 0, 40, linestyles='dashed', color='grey', label='Var(e)=1')\n",
        "#  подписи осей\n",
        "plt.xlabel('степени свободы (df)')\n",
        "plt.ylabel('MSE')\n",
        "# легенда\n",
        "plt.legend(loc='best')"
      ],
      "id": "672b4efb",
      "execution_count": 98,
      "outputs": [
        {
          "output_type": "execute_result",
          "data": {
            "text/plain": [
              "<matplotlib.legend.Legend at 0x7f17278e4e90>"
            ]
          },
          "metadata": {},
          "execution_count": 98
        },
        {
          "output_type": "display_data",
          "data": {
            "image/png": "[encoded data removed]",
            "text/plain": [
              "<Figure size 432x288 with 1 Axes>"
            ]
          },
          "metadata": {
            "needs_background": "light"
          }
        }
      ]
    },
    {
      "cell_type": "markdown",
      "metadata": {
        "id": "WuwI8Rpwi-gl"
      },
      "source": [
        "# **Вывод к задаче 1:**\n",
        "Наилучшее число степеней свободы для данной модели - 24, поскольку при нем достигается минимальная ошибка на тестовой выборке."
      ],
      "id": "WuwI8Rpwi-gl"
    },
    {
      "cell_type": "markdown",
      "metadata": {
        "id": "Z8t0itYhnPps"
      },
      "source": [
        "# **Задача 2:**\n",
        "Кол-во наблюдений: *𝑛_𝑎𝑙𝑙=150*\n",
        "\n",
        "# Генерируем новые данные:"
      ],
      "id": "Z8t0itYhnPps"
    },
    {
      "cell_type": "code",
      "metadata": {
        "id": "348dn-MKnoqN"
      },
      "source": [
        "# задаём ядро генератора случайных чисел (внимание: не глобально)\n",
        "np.random.seed(10)\n",
        "\n",
        "# всего наблюдений, доля обучающей выборки\n",
        "train_percent = 0.85\n",
        "n_all = 150\n",
        "\n",
        "# параметры распределения X\n",
        "x_min, x_max = 5, 105\n",
        "\n",
        "# генерируем X\n",
        "x = np.random.uniform(x_min, x_max, n_all)\n",
        "\n",
        "# генерируем случайный шум\n",
        "mu, sigma = 0, 1\n",
        "res = np.random.normal(mu, sigma, n_all)\n",
        "\n",
        "# отбираем наблюдения в обучающую выборку\n",
        "in_train = np.random.choice(np.arange(n_all), int(n_all * train_percent), replace = False)\n",
        "\n",
        "# истинная функция взаимосвязи\n",
        "def y_func (x) :\n",
        "    return(6 + 3.5 * np.cos((x - 30) / 12))\n",
        "    \n",
        "# для графика истинной взаимосвязи\n",
        "x_line = np.linspace(x_min, x_max, n_all)\n",
        "y_line = y_func(x_line)\n",
        "\n",
        "# фактические значения y (с шумом)\n",
        "y = y_func(x) + res\n",
        "\n",
        "# создаём векторы с данными для построения графиков\n",
        "# наблюдения на обучающей выборке\n",
        "x_train = x[in_train]\n",
        "y_train = y[in_train]\n",
        "\n",
        "# наблюдения на тестовой выборке\n",
        "x_test = np.delete(x, in_train)\n",
        "y_test = np.delete(y, in_train)"
      ],
      "id": "348dn-MKnoqN",
      "execution_count": 99,
      "outputs": []
    },
    {
      "cell_type": "markdown",
      "metadata": {
        "id": "hF1KGL6GsYfi"
      },
      "source": [
        "# **Строим графики**\n",
        "Изобразим исходные данные на графике."
      ],
      "id": "hF1KGL6GsYfi"
    },
    {
      "cell_type": "code",
      "metadata": {
        "colab": {
          "base_uri": "https://localhost:8080/",
          "height": 279
        },
        "id": "A5PIUKbYsfcm",
        "outputId": "09928544-7897-4b57-d96c-faf29388ceec"
      },
      "source": [
        "# график 1: исходные данные\n",
        "#  обучающая выборка\n",
        "plt.scatter(x_train, y_train, color = 'black', label = 'Training', alpha = 0.6)\n",
        "#  тестовая выборка\n",
        "plt.scatter(x_test, y_test, color = 'red', label = 'Test', alpha = 0.6)\n",
        "#  истинная функция взаимосвязи\n",
        "plt.plot(x_line, y_line, color = 'black', linestyle = 'dashed', label = 'f(x)')\n",
        "\n",
        "plt.xlabel('X')\n",
        "plt.ylabel('Y')\n",
        "\n",
        "#  легенда\n",
        "plt.legend()\n",
        "plt.show()"
      ],
      "id": "A5PIUKbYsfcm",
      "execution_count": 100,
      "outputs": [
        {
          "output_type": "display_data",
          "data": {
            "image/png": "[encoded data removed]",
            "text/plain": [
              "<Figure size 432x288 with 1 Axes>"
            ]
          },
          "metadata": {
            "needs_background": "light"
          }
        }
      ]
    },
    {
      "cell_type": "markdown",
      "metadata": {
        "id": "-ypPQlRdsqTO"
      },
      "source": [
        "# **Обучаем модели и оцениваем их точность**\n",
        "В качестве модели используем сплайны со степенями свободы от 2 (прямая) до k (количество узлов равно 2/3 наблюдений). Строим модели с различным количеством степеней свободы и в каждом случае считаем среднеквадратическую ошибку модели на обучающей и тестовой выборках."
      ],
      "id": "-ypPQlRdsqTO"
    },
    {
      "cell_type": "code",
      "metadata": {
        "colab": {
          "base_uri": "https://localhost:8080/",
          "height": 279
        },
        "id": "G1dNMRnXspEd",
        "outputId": "8c7571fb-efe9-4dc8-d2d7-f361c3607c08"
      },
      "source": [
        "# модель натурального сплайна с заданным количеством узлов (df)\n",
        "my_df = int(round((n_all * 2)/3)) - 2\n",
        "\n",
        "# сохраняем индексы отсортированного по возрастанию x из обучающей выборки\n",
        "x_sorted_index = x_sorted_index = sorted(range(len(x_train)), key=lambda k: x_train[k])\n",
        "\n",
        "# равноотстоящие координаты по X для прорисовки сглаженной кривой\n",
        "x_train_lin = np.linspace(min(x_train), max(x_train), num=300, endpoint=True)\n",
        "\n",
        "# создаём из данных объекты, понятные R\n",
        "r_x = robjects.FloatVector(x_train)\n",
        "r_y = robjects.FloatVector(y_train)\n",
        "\n",
        "# импортируем нужную функцию из R\n",
        "r_smooth_spline = robjects.r['smooth.spline']\n",
        "\n",
        "# строим сглаживающий сплайн\n",
        "fit = r_smooth_spline(x=r_x, y=r_y, df=my_df)\n",
        "\n",
        "# делаем прогнозы\n",
        "y_hat_train = np.array(robjects.r['predict'](fit, \n",
        "    robjects.FloatVector(x_train)).rx2('y'))\n",
        "y_hat_test = np.array(robjects.r['predict'](fit, \n",
        "    robjects.FloatVector(x_test)).rx2('y'))\n",
        "y_lin_plot = np.array(robjects.r['predict'](fit, \n",
        "    robjects.FloatVector(x_train_lin)).rx2('y'))\n",
        "\n",
        "# строим график\n",
        "plt.plot(x_train, y_train, color='black', ls='', marker='.', label='обучение')\n",
        "plt.plot(x_line, y_line, color='black', ls='dashed', marker='', label='f(X)')\n",
        "plt.plot(x_train_lin, y_lin_plot, marker='', label='сплайн с df = %s' % my_df)\n",
        "plt.plot(x_test, y_test, color='red', ls='', marker='.', label='тест факт')\n",
        "plt.plot(x_test, y_hat_test, color='red', ls='', marker='+', label='тест прогноз')\n",
        "#  подписи осей\n",
        "plt.xlabel('X')\n",
        "plt.ylabel('Y')\n",
        "# легенда\n",
        "plt.legend(loc='best')\n",
        "\n",
        "# считаем MSE\n",
        "MSE_fit = [sum((y_train - y_hat_train)**2) / len(y_train), sum((y_test - y_hat_test)**2) / len(y_test)]"
      ],
      "id": "G1dNMRnXspEd",
      "execution_count": 101,
      "outputs": [
        {
          "output_type": "display_data",
          "data": {
            "image/png": "[encoded data removed]",
            "text/plain": [
              "<Figure size 432x288 with 1 Axes>"
            ]
          },
          "metadata": {
            "needs_background": "light"
          }
        }
      ]
    },
    {
      "cell_type": "markdown",
      "metadata": {
        "id": "Xf5Tl3Ixs6Hk"
      },
      "source": [
        "Ошибки на обучающей и тестовой выборках составили соответственно:"
      ],
      "id": "Xf5Tl3Ixs6Hk"
    },
    {
      "cell_type": "code",
      "metadata": {
        "colab": {
          "base_uri": "https://localhost:8080/"
        },
        "id": "qExWlG0Os7hx",
        "outputId": "dfdde2f2-62d6-4418-8873-97f8da203a86"
      },
      "source": [
        "\n",
        "# выводим MSE с округлением\n",
        "np.around(MSE_fit, 2)"
      ],
      "id": "qExWlG0Os7hx",
      "execution_count": 102,
      "outputs": [
        {
          "output_type": "execute_result",
          "data": {
            "text/plain": [
              "array([ 0.34, 15.77])"
            ]
          },
          "metadata": {},
          "execution_count": 102
        }
      ]
    },
    {
      "cell_type": "code",
      "metadata": {
        "id": "axb0hc87s_CG"
      },
      "source": [
        "#  Теперь строим модели с df от 2 до 100 ########################################\n",
        "\n",
        "# максимальное число степеней свободы для модели сплайна\n",
        "max_df = my_df + 2\n",
        "# фрейм данных для сохранения MSE на обучающей и на тестовой \n",
        "#  при разных степенях свободы\n",
        "MSE_all_dfs = [[0] * 2 for i in range(2, max_df+1)]\n",
        "MSE_all_dfs = DataFrame(MSE_all_dfs, columns=['MSE_train', 'MSE_test'],\n",
        "                       index=list(range(2, max_df+1)))\n",
        "\n",
        "\n",
        "# заполняем фрейм\n",
        "for i_df in range(2, max_df+1) :\n",
        "    \n",
        "    # обучаем модель\n",
        "    fit = r_smooth_spline(x = r_x, y = r_y, df = i_df)\n",
        "    \n",
        "    # прогноз на обучающей выборке\n",
        "    y_train_hat = np.array(robjects.r['predict'](fit, \n",
        "        robjects.FloatVector(x_train)).rx2('y'))\n",
        "    # прогноз на тестовой выборке\n",
        "    y_test_hat = np.array(robjects.r['predict'](fit, \n",
        "        robjects.FloatVector(x_test)).rx2('y'))\n",
        "    \n",
        "    # считаем MSE\n",
        "    MSE_all_dfs.loc[i_df, 'MSE_train'] = sum((y_train - y_train_hat)**2) / len(y_train_hat)\n",
        "    MSE_all_dfs.loc[i_df, 'MSE_test'] = sum((y_test - y_test_hat)**2) / len(y_test_hat)"
      ],
      "id": "axb0hc87s_CG",
      "execution_count": 103,
      "outputs": []
    },
    {
      "cell_type": "markdown",
      "metadata": {
        "id": "7L5WOLORtGnH"
      },
      "source": [
        "Минимум MSE на тестовой выборке достигается при числе степеней свободы:\n"
      ],
      "id": "7L5WOLORtGnH"
    },
    {
      "cell_type": "code",
      "metadata": {
        "colab": {
          "base_uri": "https://localhost:8080/",
          "height": 81
        },
        "id": "VfJ1bbsitHwz",
        "outputId": "9728b6d6-51d6-4129-dcb3-ce1496a8156b"
      },
      "source": [
        "# фильтруем таблицу по минимальной MSE на тестовой выборке\n",
        "MSE_all_dfs[MSE_all_dfs['MSE_test'] == min(MSE_all_dfs['MSE_test'])]"
      ],
      "id": "VfJ1bbsitHwz",
      "execution_count": 104,
      "outputs": [
        {
          "output_type": "execute_result",
          "data": {
            "text/html": [
              "<div>\n",
              "<style scoped>\n",
              "    .dataframe tbody tr th:only-of-type {\n",
              "        vertical-align: middle;\n",
              "    }\n",
              "\n",
              "    .dataframe tbody tr th {\n",
              "        vertical-align: top;\n",
              "    }\n",
              "\n",
              "    .dataframe thead th {\n",
              "        text-align: right;\n",
              "    }\n",
              "</style>\n",
              "<table border=\"1\" class=\"dataframe\">\n",
              "  <thead>\n",
              "    <tr style=\"text-align: right;\">\n",
              "      <th></th>\n",
              "      <th>MSE_train</th>\n",
              "      <th>MSE_test</th>\n",
              "    </tr>\n",
              "  </thead>\n",
              "  <tbody>\n",
              "    <tr>\n",
              "      <th>6</th>\n",
              "      <td>0.901754</td>\n",
              "      <td>0.908532</td>\n",
              "    </tr>\n",
              "  </tbody>\n",
              "</table>\n",
              "</div>"
            ],
            "text/plain": [
              "   MSE_train  MSE_test\n",
              "6   0.901754  0.908532"
            ]
          },
          "metadata": {},
          "execution_count": 104
        }
      ]
    },
    {
      "cell_type": "markdown",
      "metadata": {
        "id": "nJPgP8FytNKR"
      },
      "source": [
        "Изобразим на графике динамику MSE на обучающей и тестовой выборках в зависимости от степеней свободы модели."
      ],
      "id": "nJPgP8FytNKR"
    },
    {
      "cell_type": "code",
      "metadata": {
        "colab": {
          "base_uri": "https://localhost:8080/",
          "height": 296
        },
        "id": "eFtrzN04tOJ5",
        "outputId": "c1fa649d-643f-423b-fec9-716c9dd310eb"
      },
      "source": [
        "# график изменения MSE с увеличением df\n",
        "plt.plot(MSE_all_dfs.index, MSE_all_dfs['MSE_train'], color='dimgrey', \n",
        "         marker='', label='обучение')\n",
        "plt.plot(MSE_all_dfs.index, MSE_all_dfs['MSE_test'], color='red', \n",
        "         marker='', label='тест')\n",
        "plt.plot([2, 2], [MSE_all_dfs.iloc[0]['MSE_train'], MSE_all_dfs.iloc[0]['MSE_test']],\n",
        "         ls='', marker='s', label='df=2')\n",
        "plt.plot([6, 6], [MSE_all_dfs.iloc[4]['MSE_train'], MSE_all_dfs.iloc[4]['MSE_test']],\n",
        "         ls='', marker='s', label='df=6')\n",
        "plt.plot([max_df, max_df], [MSE_all_dfs.iloc[my_df]['MSE_train'], MSE_all_dfs.iloc[my_df]['MSE_test']],\n",
        "         ls='', marker='s', label='df=100')\n",
        "plt.hlines(1, 0, 40, linestyles='dashed', color='grey', label='Var(e)=1')\n",
        "#  подписи осей\n",
        "plt.xlabel('степени свободы (df)')\n",
        "plt.ylabel('MSE')\n",
        "# легенда\n",
        "plt.legend(loc='best')"
      ],
      "id": "eFtrzN04tOJ5",
      "execution_count": 105,
      "outputs": [
        {
          "output_type": "execute_result",
          "data": {
            "text/plain": [
              "<matplotlib.legend.Legend at 0x7f1727edfcd0>"
            ]
          },
          "metadata": {},
          "execution_count": 105
        },
        {
          "output_type": "display_data",
          "data": {
            "image/png": "[encoded data removed]",
            "text/plain": [
              "<Figure size 432x288 with 1 Axes>"
            ]
          },
          "metadata": {
            "needs_background": "light"
          }
        }
      ]
    },
    {
      "cell_type": "markdown",
      "metadata": {
        "id": "gzGfmyxRuqRn"
      },
      "source": [
        "# **Вывод к задаче:**\n",
        "Наилучшее число степеней свободы для данной модели - 6, поскольку при нем достигается минимальная ошибка на тестовой выборке."
      ],
      "id": "gzGfmyxRuqRn"
    },
    {
      "cell_type": "markdown",
      "metadata": {
        "id": "evrlxEk6vNcf"
      },
      "source": [
        "Кол-во наблюдений: 𝑛_𝑎𝑙𝑙=100\n",
        "# Генерируем новые данные"
      ],
      "id": "evrlxEk6vNcf"
    },
    {
      "cell_type": "code",
      "metadata": {
        "id": "6wetWrY7vjWU"
      },
      "source": [
        "# задаём ядро генератора случайных чисел (внимание: не глобально)\n",
        "np.random.seed(10)\n",
        "\n",
        "# всего наблюдений, доля обучающей выборки\n",
        "train_percent = 0.85\n",
        "n_all = 100\n",
        "\n",
        "# параметры распределения X\n",
        "x_min, x_max = 5, 105\n",
        "\n",
        "# генерируем X\n",
        "x = np.random.uniform(x_min, x_max, n_all)\n",
        "\n",
        "# генерируем случайный шум\n",
        "mu, sigma = 0, 1\n",
        "res = np.random.normal(mu, sigma, n_all)\n",
        "\n",
        "# отбираем наблюдения в обучающую выборку\n",
        "in_train = np.random.choice(np.arange(n_all), int(n_all * train_percent), replace = False)\n",
        "\n",
        "# истинная функция взаимосвязи\n",
        "def y_func (x) :\n",
        "    return(6 + 3.5 * np.cos((x - 30) / 12))\n",
        "    \n",
        "# для графика истинной взаимосвязи\n",
        "x_line = np.linspace(x_min, x_max, n_all)\n",
        "y_line = y_func(x_line)\n",
        "\n",
        "# фактические значения y (с шумом)\n",
        "y = y_func(x) + res\n",
        "\n",
        "# создаём векторы с данными для построения графиков\n",
        "# наблюдения на обучающей выборке\n",
        "x_train = x[in_train]\n",
        "y_train = y[in_train]\n",
        "\n",
        "# наблюдения на тестовой выборке\n",
        "x_test = np.delete(x, in_train)\n",
        "y_test = np.delete(y, in_train)"
      ],
      "id": "6wetWrY7vjWU",
      "execution_count": 106,
      "outputs": []
    },
    {
      "cell_type": "markdown",
      "metadata": {
        "id": "zOBrBXOmv0cl"
      },
      "source": [
        "\n",
        "# **Строим графики**\n",
        "Изобразим исходные данные на графике."
      ],
      "id": "zOBrBXOmv0cl"
    },
    {
      "cell_type": "code",
      "metadata": {
        "colab": {
          "base_uri": "https://localhost:8080/",
          "height": 279
        },
        "id": "qDw8aJ1gv2s-",
        "outputId": "58552fbd-38da-4943-d7d8-fbc7d57ef94a"
      },
      "source": [
        "# график 2: исходные данные\n",
        "#  обучающая выборка\n",
        "plt.scatter(x_train, y_train, color = 'black', label = 'Training', alpha = 0.6)\n",
        "#  тестовая выборка\n",
        "plt.scatter(x_test, y_test, color = 'red', label = 'Test', alpha = 0.6)\n",
        "#  истинная функция взаимосвязи\n",
        "plt.plot(x_line, y_line, color = 'black', linestyle = 'dashed', label = 'f(x)')\n",
        "\n",
        "plt.xlabel('X')\n",
        "plt.ylabel('Y')\n",
        "\n",
        "#  легенда\n",
        "plt.legend()\n",
        "plt.show()"
      ],
      "id": "qDw8aJ1gv2s-",
      "execution_count": 107,
      "outputs": [
        {
          "output_type": "display_data",
          "data": {
            "image/png": "[encoded data removed]",
            "text/plain": [
              "<Figure size 432x288 with 1 Axes>"
            ]
          },
          "metadata": {
            "needs_background": "light"
          }
        }
      ]
    },
    {
      "cell_type": "markdown",
      "metadata": {
        "id": "Ix5jHkgnv9YB"
      },
      "source": [
        "# **Обучаем модели и оцениваем их точность**\n",
        "В качестве модели используем сплайны со степенями свободы от 2 (прямая) до k(количество узлов равно 2/3 наблюдений). Строим модели с различным количеством степеней свободы и в каждом случае считаем среднеквадратическую ошибку модели на обучающей и тестовой выборках."
      ],
      "id": "Ix5jHkgnv9YB"
    },
    {
      "cell_type": "code",
      "metadata": {
        "colab": {
          "base_uri": "https://localhost:8080/",
          "height": 279
        },
        "id": "pL5TZTgiwHYj",
        "outputId": "661e148a-97ae-45a3-beea-3b48e2effb42"
      },
      "source": [
        "\n",
        "# модель натурального сплайна с заданным количеством узлов (df)\n",
        "my_df = int(round(n_all * 2/3)) - 2\n",
        "\n",
        "# сохраняем индексы отсортированного по возрастанию x из обучающей выборки\n",
        "x_sorted_index = x_sorted_index = sorted(range(len(x_train)), key=lambda k: x_train[k])\n",
        "\n",
        "# равноотстоящие координаты по X для прорисовки сглаженной кривой\n",
        "x_train_lin = np.linspace(min(x_train), max(x_train), num=300, endpoint=True)\n",
        "\n",
        "# создаём из данных объекты, понятные R\n",
        "r_x = robjects.FloatVector(x_train)\n",
        "r_y = robjects.FloatVector(y_train)\n",
        "\n",
        "# импортируем нужную функцию из R\n",
        "r_smooth_spline = robjects.r['smooth.spline']\n",
        "\n",
        "# строим сглаживающий сплайн\n",
        "fit = r_smooth_spline(x=r_x, y=r_y, df=my_df)\n",
        "\n",
        "# делаем прогнозы\n",
        "y_hat_train = np.array(robjects.r['predict'](fit, \n",
        "    robjects.FloatVector(x_train)).rx2('y'))\n",
        "y_hat_test = np.array(robjects.r['predict'](fit, \n",
        "    robjects.FloatVector(x_test)).rx2('y'))\n",
        "y_lin_plot = np.array(robjects.r['predict'](fit, \n",
        "    robjects.FloatVector(x_train_lin)).rx2('y'))\n",
        "\n",
        "# строим график\n",
        "plt.plot(x_train, y_train, color='black', ls='', marker='.', label='обучение')\n",
        "plt.plot(x_line, y_line, color='black', ls='dashed', marker='', label='f(X)')\n",
        "plt.plot(x_train_lin, y_lin_plot, marker='', label='сплайн с df = %s' % my_df)\n",
        "plt.plot(x_test, y_test, color='red', ls='', marker='.', label='тест факт')\n",
        "plt.plot(x_test, y_hat_test, color='red', ls='', marker='+', label='тест прогноз')\n",
        "#  подписи осей\n",
        "plt.xlabel('X')\n",
        "plt.ylabel('Y')\n",
        "# легенда\n",
        "plt.legend(loc='best')\n",
        "\n",
        "# считаем MSE\n",
        "MSE_fit = [sum((y_train - y_hat_train)**2) / len(y_train), sum((y_test - y_hat_test)**2) / len(y_test)]"
      ],
      "id": "pL5TZTgiwHYj",
      "execution_count": 108,
      "outputs": [
        {
          "output_type": "display_data",
          "data": {
            "image/png": "[encoded data removed]",
            "text/plain": [
              "<Figure size 432x288 with 1 Axes>"
            ]
          },
          "metadata": {
            "needs_background": "light"
          }
        }
      ]
    },
    {
      "cell_type": "markdown",
      "metadata": {
        "id": "ZWlRCOWNwy6c"
      },
      "source": [
        "\n",
        "Ошибки на обучающей и тестовой выборках составили соответственно:"
      ],
      "id": "ZWlRCOWNwy6c"
    },
    {
      "cell_type": "code",
      "metadata": {
        "colab": {
          "base_uri": "https://localhost:8080/"
        },
        "id": "LeBkcrGjw0yu",
        "outputId": "e4b6251a-e090-4922-adde-46e676e2a5a8"
      },
      "source": [
        "\n",
        "# выводим MSE с округлением\n",
        "np.around(MSE_fit, 2)"
      ],
      "id": "LeBkcrGjw0yu",
      "execution_count": 109,
      "outputs": [
        {
          "output_type": "execute_result",
          "data": {
            "text/plain": [
              "array([0.22, 2.47])"
            ]
          },
          "metadata": {},
          "execution_count": 109
        }
      ]
    },
    {
      "cell_type": "code",
      "metadata": {
        "id": "xfzCS_rxw3fc"
      },
      "source": [
        "#  Теперь строим модели с df от 2 до my_df+ 2 ########################################\n",
        "\n",
        "# максимальное число степеней свободы для модели сплайна\n",
        "max_df = my_df + 2\n",
        "\n",
        "# фрейм данных для сохранения MSE на обучающей и на тестовой \n",
        "#  при разных степенях свободы\n",
        "MSE_all_dfs = [[0] * 2 for i in range(2, max_df+1)]\n",
        "MSE_all_dfs = DataFrame(MSE_all_dfs, columns=['MSE_train', 'MSE_test'],\n",
        "                       index=list(range(2, max_df+1)))\n",
        "\n",
        "# заполняем фрейм\n",
        "for i_df in range(2, max_df+1) :\n",
        "    \n",
        "    # обучаем модель\n",
        "    fit = r_smooth_spline(x = r_x, y = r_y, df = i_df)\n",
        "    \n",
        "    # прогноз на обучающей выборке\n",
        "    y_train_hat = np.array(robjects.r['predict'](fit, \n",
        "        robjects.FloatVector(x_train)).rx2('y'))\n",
        "    # прогноз на тестовой выборке\n",
        "    y_test_hat = np.array(robjects.r['predict'](fit, \n",
        "        robjects.FloatVector(x_test)).rx2('y'))\n",
        "    \n",
        "    # считаем MSE\n",
        "    MSE_all_dfs.loc[i_df, 'MSE_train'] = sum((y_train - y_train_hat)**2) / len(y_train_hat)\n",
        "    MSE_all_dfs.loc[i_df, 'MSE_test'] = sum((y_test - y_test_hat)**2) / len(y_test_hat)"
      ],
      "id": "xfzCS_rxw3fc",
      "execution_count": 110,
      "outputs": []
    },
    {
      "cell_type": "markdown",
      "metadata": {
        "id": "fpugtnu8xBFO"
      },
      "source": [
        "Минимум MSE на тестовой выборке достигается при числе степеней свободы:"
      ],
      "id": "fpugtnu8xBFO"
    },
    {
      "cell_type": "code",
      "metadata": {
        "colab": {
          "base_uri": "https://localhost:8080/",
          "height": 81
        },
        "id": "HyA-P_D0xBvb",
        "outputId": "f7737e09-4984-4954-a3f7-9f5d440d5648"
      },
      "source": [
        "# фильтруем таблицу по минимальной MSE на тестовой выборке\n",
        "MSE_all_dfs[MSE_all_dfs['MSE_test'] == min(MSE_all_dfs['MSE_test'])]"
      ],
      "id": "HyA-P_D0xBvb",
      "execution_count": 111,
      "outputs": [
        {
          "output_type": "execute_result",
          "data": {
            "text/html": [
              "<div>\n",
              "<style scoped>\n",
              "    .dataframe tbody tr th:only-of-type {\n",
              "        vertical-align: middle;\n",
              "    }\n",
              "\n",
              "    .dataframe tbody tr th {\n",
              "        vertical-align: top;\n",
              "    }\n",
              "\n",
              "    .dataframe thead th {\n",
              "        text-align: right;\n",
              "    }\n",
              "</style>\n",
              "<table border=\"1\" class=\"dataframe\">\n",
              "  <thead>\n",
              "    <tr style=\"text-align: right;\">\n",
              "      <th></th>\n",
              "      <th>MSE_train</th>\n",
              "      <th>MSE_test</th>\n",
              "    </tr>\n",
              "  </thead>\n",
              "  <tbody>\n",
              "    <tr>\n",
              "      <th>6</th>\n",
              "      <td>0.938272</td>\n",
              "      <td>1.300582</td>\n",
              "    </tr>\n",
              "  </tbody>\n",
              "</table>\n",
              "</div>"
            ],
            "text/plain": [
              "   MSE_train  MSE_test\n",
              "6   0.938272  1.300582"
            ]
          },
          "metadata": {},
          "execution_count": 111
        }
      ]
    },
    {
      "cell_type": "markdown",
      "metadata": {
        "id": "K_u5swiOxFzm"
      },
      "source": [
        "\n",
        "Изобразим на графике динамику MSE на обучающей и тестовой выборках в зависимости от степеней свободы модели."
      ],
      "id": "K_u5swiOxFzm"
    },
    {
      "cell_type": "code",
      "metadata": {
        "colab": {
          "base_uri": "https://localhost:8080/",
          "height": 296
        },
        "id": "n0vBmpuaxHW8",
        "outputId": "6f6957c9-e8ba-44e2-ece9-8875747d9552"
      },
      "source": [
        "# график изменения MSE с увеличением df\n",
        "plt.plot(MSE_all_dfs.index, MSE_all_dfs['MSE_train'], color='dimgrey', \n",
        "         marker='', label='обучение')\n",
        "plt.plot(MSE_all_dfs.index, MSE_all_dfs['MSE_test'], color='red', \n",
        "         marker='', label='тест')\n",
        "plt.plot([2, 2], [MSE_all_dfs.iloc[0]['MSE_train'], MSE_all_dfs.iloc[0]['MSE_test']],\n",
        "         ls='', marker='s', label='df=2')\n",
        "plt.plot([6, 6], [MSE_all_dfs.iloc[4]['MSE_train'], MSE_all_dfs.iloc[4]['MSE_test']],\n",
        "         ls='', marker='s', label='df=6')\n",
        "plt.plot([max_df, max_df], [MSE_all_dfs.iloc[my_df]['MSE_train'], MSE_all_dfs.iloc[my_df]['MSE_test']],\n",
        "         ls='', marker='s', label='df=67')\n",
        "plt.hlines(1, 0, 40, linestyles='dashed', color='grey', label='Var(e)=1')\n",
        "#  подписи осей\n",
        "plt.xlabel('степени свободы (df)')\n",
        "plt.ylabel('MSE')\n",
        "# легенда\n",
        "plt.legend(loc='best')"
      ],
      "id": "n0vBmpuaxHW8",
      "execution_count": 112,
      "outputs": [
        {
          "output_type": "execute_result",
          "data": {
            "text/plain": [
              "<matplotlib.legend.Legend at 0x7f17279c3c50>"
            ]
          },
          "metadata": {},
          "execution_count": 112
        },
        {
          "output_type": "display_data",
          "data": {
            "image/png": "[encoded data removed]",
            "text/plain": [
              "<Figure size 432x288 with 1 Axes>"
            ]
          },
          "metadata": {
            "needs_background": "light"
          }
        }
      ]
    },
    {
      "cell_type": "markdown",
      "metadata": {
        "id": "mwc2oDVUxWWm"
      },
      "source": [
        "# **Вывод к задаче:**\n",
        "Наилучшее число степеней свободы для данной модели - 6, поскольку при нем достигается минимальная ошибка на тестовой выборке."
      ],
      "id": "mwc2oDVUxWWm"
    },
    {
      "cell_type": "markdown",
      "metadata": {
        "id": "CsIpfwQ0xrOZ"
      },
      "source": [
        "# **Задача 2:**\n",
        "Кол-во наблюдений: *𝑛_𝑎𝑙𝑙=50*\n",
        "\n",
        "# Генерируем новые данные:"
      ],
      "id": "CsIpfwQ0xrOZ"
    },
    {
      "cell_type": "code",
      "metadata": {
        "id": "JT9s5mOlx1ky"
      },
      "source": [
        "# задаём ядро генератора случайных чисел (внимание: не глобально)\n",
        "np.random.seed(10)\n",
        "\n",
        "# всего наблюдений, доля обучающей выборки\n",
        "train_percent = 0.85\n",
        "n_all = 50\n",
        "\n",
        "# параметры распределения X\n",
        "x_min, x_max = 5, 105\n",
        "\n",
        "# генерируем X\n",
        "x = np.random.uniform(x_min, x_max, n_all)\n",
        "\n",
        "# генерируем случайный шум\n",
        "mu, sigma = 0, 4\n",
        "res = np.random.normal(mu, sigma, n_all)\n",
        "\n",
        "# отбираем наблюдения в обучающую выборку\n",
        "in_train = np.random.choice(np.arange(n_all), int(n_all * train_percent), replace = False)\n",
        "\n",
        "# истинная функция взаимосвязи\n",
        "def y_func (x) :\n",
        "    return(6 + 3.5 * np.cos((x - 30) / 12))\n",
        "    \n",
        "# для графика истинной взаимосвязи\n",
        "x_line = np.linspace(x_min, x_max, n_all)\n",
        "y_line = y_func(x_line)\n",
        "\n",
        "# фактические значения y (с шумом)\n",
        "y = y_func(x) + res\n",
        "\n",
        "# создаём векторы с данными для построения графиков\n",
        "# наблюдения на обучающей выборке\n",
        "x_train = x[in_train]\n",
        "y_train = y[in_train]\n",
        "\n",
        "# наблюдения на тестовой выборке\n",
        "x_test = np.delete(x, in_train)\n",
        "y_test = np.delete(y, in_train)"
      ],
      "id": "JT9s5mOlx1ky",
      "execution_count": 113,
      "outputs": []
    },
    {
      "cell_type": "markdown",
      "metadata": {
        "id": "0ng4OXvgx6zb"
      },
      "source": [
        "# **Строим графики**\n",
        "Изобразим исходные данные на графике."
      ],
      "id": "0ng4OXvgx6zb"
    },
    {
      "cell_type": "code",
      "metadata": {
        "colab": {
          "base_uri": "https://localhost:8080/",
          "height": 279
        },
        "id": "zUE68QCKx8gI",
        "outputId": "10ac3de8-1f41-425f-dadd-0364a7d985fd"
      },
      "source": [
        "\n",
        "# график 3: исходные данные\n",
        "#  обучающая выборка\n",
        "plt.scatter(x_train, y_train, color = 'black', label = 'Training', alpha = 0.6)\n",
        "#  тестовая выборка\n",
        "plt.scatter(x_test, y_test, color = 'red', label = 'Test', alpha = 0.6)\n",
        "#  истинная функция взаимосвязи\n",
        "plt.plot(x_line, y_line, color = 'black', linestyle = 'dashed', label = 'f(x)')\n",
        "\n",
        "plt.xlabel('X')\n",
        "plt.ylabel('Y')\n",
        "\n",
        "#  легенда\n",
        "plt.legend()\n",
        "plt.show()"
      ],
      "id": "zUE68QCKx8gI",
      "execution_count": 114,
      "outputs": [
        {
          "output_type": "display_data",
          "data": {
            "image/png": "[encoded data removed]",
            "text/plain": [
              "<Figure size 432x288 with 1 Axes>"
            ]
          },
          "metadata": {
            "needs_background": "light"
          }
        }
      ]
    },
    {
      "cell_type": "markdown",
      "metadata": {
        "id": "t6Bhv_6WyA6-"
      },
      "source": [
        "Обучаем модели и оцениваем их точность\n",
        "В качестве модели используем сплайны со степенями свободы от 2 (прямая) до k (количество узлов равно 2/3 наблюдений). Строим модели с различным количеством степеней свободы и в каждом случае считаем среднеквадратическую ошибку модели на обучающей и тестовой выборках."
      ],
      "id": "t6Bhv_6WyA6-"
    },
    {
      "cell_type": "code",
      "metadata": {
        "colab": {
          "base_uri": "https://localhost:8080/",
          "height": 279
        },
        "id": "5VP2z-Q-yC6C",
        "outputId": "13e5e534-bea2-449e-b2f6-f5106371d700"
      },
      "source": [
        "# модель натурального сплайна с заданным количеством узлов (df)\n",
        "my_df = 31\n",
        "\n",
        "# сохраняем индексы отсортированного по возрастанию x из обучающей выборки\n",
        "x_sorted_index = x_sorted_index = sorted(range(len(x_train)), key=lambda k: x_train[k])\n",
        "\n",
        "# равноотстоящие координаты по X для прорисовки сглаженной кривой\n",
        "x_train_lin = np.linspace(min(x_train), max(x_train), num=300, endpoint=True)\n",
        "\n",
        "# создаём из данных объекты, понятные R\n",
        "r_x = robjects.FloatVector(x_train)\n",
        "r_y = robjects.FloatVector(y_train)\n",
        "\n",
        "# импортируем нужную функцию из R\n",
        "r_smooth_spline = robjects.r['smooth.spline']\n",
        "\n",
        "# строим сглаживающий сплайн\n",
        "fit = r_smooth_spline(x=r_x, y=r_y, df=my_df)\n",
        "\n",
        "# делаем прогнозы\n",
        "y_hat_train = np.array(robjects.r['predict'](fit, \n",
        "    robjects.FloatVector(x_train)).rx2('y'))\n",
        "y_hat_test = np.array(robjects.r['predict'](fit, \n",
        "    robjects.FloatVector(x_test)).rx2('y'))\n",
        "y_lin_plot = np.array(robjects.r['predict'](fit, \n",
        "    robjects.FloatVector(x_train_lin)).rx2('y'))\n",
        "\n",
        "# строим график\n",
        "plt.plot(x_train, y_train, color='black', ls='', marker='.', label='обучение')\n",
        "plt.plot(x_line, y_line, color='black', ls='dashed', marker='', label='f(X)')\n",
        "plt.plot(x_train_lin, y_lin_plot, marker='', label='сплайн с df = %s' % my_df)\n",
        "plt.plot(x_test, y_test, color='red', ls='', marker='.', label='тест факт')\n",
        "plt.plot(x_test, y_hat_test, color='red', ls='', marker='+', label='тест прогноз')\n",
        "#  подписи осей\n",
        "plt.xlabel('X')\n",
        "plt.ylabel('Y')\n",
        "# легенда\n",
        "plt.legend(loc='best')\n",
        "\n",
        "# считаем MSE\n",
        "MSE_fit = [sum((y_train - y_hat_train)**2) / len(y_train), sum((y_test - y_hat_test)**2) / len(y_test)]"
      ],
      "id": "5VP2z-Q-yC6C",
      "execution_count": 115,
      "outputs": [
        {
          "output_type": "display_data",
          "data": {
            "image/png": "[encoded data removed]",
            "text/plain": [
              "<Figure size 432x288 with 1 Axes>"
            ]
          },
          "metadata": {
            "needs_background": "light"
          }
        }
      ]
    },
    {
      "cell_type": "markdown",
      "metadata": {
        "id": "idemzIhRySJk"
      },
      "source": [
        "Ошибки на обучающей и тестовой выборках составили соответственно:"
      ],
      "id": "idemzIhRySJk"
    },
    {
      "cell_type": "code",
      "metadata": {
        "colab": {
          "base_uri": "https://localhost:8080/"
        },
        "id": "VurMI-pryUHZ",
        "outputId": "00383a7d-8ae9-4236-dbbf-89eb4fa647a2"
      },
      "source": [
        "# выводим MSE с округлением\n",
        "np.around(MSE_fit, 2)"
      ],
      "id": "VurMI-pryUHZ",
      "execution_count": 116,
      "outputs": [
        {
          "output_type": "execute_result",
          "data": {
            "text/plain": [
              "array([ 3.7 , 28.74])"
            ]
          },
          "metadata": {},
          "execution_count": 116
        }
      ]
    },
    {
      "cell_type": "code",
      "metadata": {
        "id": "fptHKIqryWcf"
      },
      "source": [
        "\n",
        "#  Теперь строим модели с df от 2 до my_df + 2 ########################################\n",
        "\n",
        "# максимальное число степеней свободы для модели сплайна\n",
        "max_df = 33\n",
        "\n",
        "# фрейм данных для сохранения MSE на обучающей и на тестовой \n",
        "#  при разных степенях свободы\n",
        "MSE_all_dfs = [[0] * 2 for i in range(2, max_df + 1)]\n",
        "MSE_all_dfs = DataFrame(MSE_all_dfs, columns = ['MSE_train', 'MSE_test'], index = list(range(2, max_df + 1)))\n",
        "\n",
        "\n",
        "# заполняем фрейм\n",
        "for i_df in range(2, max_df+1) :\n",
        "    \n",
        "    # обучаем модель\n",
        "    fit = r_smooth_spline(x = r_x, y = r_y, df = i_df)\n",
        "    \n",
        "    # прогноз на обучающей выборке\n",
        "    y_train_hat = np.array(robjects.r['predict'](fit, \n",
        "        robjects.FloatVector(x_train)).rx2('y'))\n",
        "    # прогноз на тестовой выборке\n",
        "    y_test_hat = np.array(robjects.r['predict'](fit, \n",
        "        robjects.FloatVector(x_test)).rx2('y'))\n",
        "    \n",
        "    # считаем MSE\n",
        "    MSE_all_dfs.loc[i_df, 'MSE_train'] = sum((y_train - y_train_hat)**2) / len(y_train_hat)\n",
        "    MSE_all_dfs.loc[i_df, 'MSE_test'] = sum((y_test - y_test_hat)**2) / len(y_test_hat)"
      ],
      "id": "fptHKIqryWcf",
      "execution_count": 117,
      "outputs": []
    },
    {
      "cell_type": "markdown",
      "metadata": {
        "id": "lsC1CQjhyees"
      },
      "source": [
        "\n",
        "Минимум MSE на тестовой выборке достигается при числе степеней свободы:"
      ],
      "id": "lsC1CQjhyees"
    },
    {
      "cell_type": "code",
      "metadata": {
        "colab": {
          "base_uri": "https://localhost:8080/",
          "height": 81
        },
        "id": "Rq8a9L0CyfYm",
        "outputId": "6e22e817-0183-43cc-9100-5636eca628bf"
      },
      "source": [
        "# фильтруем таблицу по минимальной MSE на тестовой выборке\n",
        "MSE_all_dfs[MSE_all_dfs['MSE_test'] == min(MSE_all_dfs['MSE_test'])]"
      ],
      "id": "Rq8a9L0CyfYm",
      "execution_count": 118,
      "outputs": [
        {
          "output_type": "execute_result",
          "data": {
            "text/html": [
              "<div>\n",
              "<style scoped>\n",
              "    .dataframe tbody tr th:only-of-type {\n",
              "        vertical-align: middle;\n",
              "    }\n",
              "\n",
              "    .dataframe tbody tr th {\n",
              "        vertical-align: top;\n",
              "    }\n",
              "\n",
              "    .dataframe thead th {\n",
              "        text-align: right;\n",
              "    }\n",
              "</style>\n",
              "<table border=\"1\" class=\"dataframe\">\n",
              "  <thead>\n",
              "    <tr style=\"text-align: right;\">\n",
              "      <th></th>\n",
              "      <th>MSE_train</th>\n",
              "      <th>MSE_test</th>\n",
              "    </tr>\n",
              "  </thead>\n",
              "  <tbody>\n",
              "    <tr>\n",
              "      <th>4</th>\n",
              "      <td>17.148354</td>\n",
              "      <td>3.908151</td>\n",
              "    </tr>\n",
              "  </tbody>\n",
              "</table>\n",
              "</div>"
            ],
            "text/plain": [
              "   MSE_train  MSE_test\n",
              "4  17.148354  3.908151"
            ]
          },
          "metadata": {},
          "execution_count": 118
        }
      ]
    },
    {
      "cell_type": "markdown",
      "metadata": {
        "id": "wCtlKDwzykDK"
      },
      "source": [
        "\n",
        "Изобразим на графике динамику MSE на обучающей и тестовой выборках в зависимости от степеней свободы модели."
      ],
      "id": "wCtlKDwzykDK"
    },
    {
      "cell_type": "code",
      "metadata": {
        "colab": {
          "base_uri": "https://localhost:8080/",
          "height": 296
        },
        "id": "KP6iWtULylgy",
        "outputId": "67eccb54-0d70-4f79-8cf2-815e3c0578ba"
      },
      "source": [
        "\n",
        "# график изменения MSE с увеличением df\n",
        "plt.plot(MSE_all_dfs.index, MSE_all_dfs['MSE_train'], color='dimgrey', \n",
        "         marker='', label='обучение')\n",
        "plt.plot(MSE_all_dfs.index, MSE_all_dfs['MSE_test'], color='red', \n",
        "         marker='', label='тест')\n",
        "plt.plot([2, 2], [MSE_all_dfs.iloc[0]['MSE_train'], MSE_all_dfs.iloc[0]['MSE_test']],\n",
        "         ls='', marker='s', label='df=2')\n",
        "plt.plot([4, 4], [MSE_all_dfs.iloc[2]['MSE_train'], MSE_all_dfs.iloc[2]['MSE_test']],\n",
        "         ls='', marker='s', label='df=4')\n",
        "plt.plot([max_df, max_df], [MSE_all_dfs.iloc[my_df]['MSE_train'], MSE_all_dfs.iloc[my_df]['MSE_test']],\n",
        "         ls='', marker='s', label='df=38')\n",
        "plt.hlines(1, 0, 40, linestyles='dashed', color='grey', label='Var(e)=1')\n",
        "#  подписи осей\n",
        "plt.xlabel('степени свободы (df)')\n",
        "plt.ylabel('MSE')\n",
        "# легенда\n",
        "plt.legend(loc='best')"
      ],
      "id": "KP6iWtULylgy",
      "execution_count": 119,
      "outputs": [
        {
          "output_type": "execute_result",
          "data": {
            "text/plain": [
              "<matplotlib.legend.Legend at 0x7f172763f950>"
            ]
          },
          "metadata": {},
          "execution_count": 119
        },
        {
          "output_type": "display_data",
          "data": {
            "image/png": "[encoded data removed]",
            "text/plain": [
              "<Figure size 432x288 with 1 Axes>"
            ]
          },
          "metadata": {
            "needs_background": "light"
          }
        }
      ]
    },
    {
      "cell_type": "markdown",
      "metadata": {
        "id": "p4tsXR5Yy4eR"
      },
      "source": [
        "# **Вывод к задаче:**\n",
        "Наилучшее число степеней свободы для данной модели - 4, поскольку при нем достигается минимальная ошибка на тестовой выборке."
      ],
      "id": "p4tsXR5Yy4eR"
    },
    {
      "cell_type": "markdown",
      "metadata": {
        "id": "QalVwQZJzC3C"
      },
      "source": [
        "# **Результаты MSE на train и test:**\n",
        "\n",
        "\n",
        "*   60 - 0.651214\t0.895104\n",
        "*   150 - 0.901754\t0.908532\n",
        "*   100 - 0.938272\t1.300582\n",
        "*   50 - 17.148354\t3.90815\n"
      ],
      "id": "QalVwQZJzC3C"
    }
  ]
}