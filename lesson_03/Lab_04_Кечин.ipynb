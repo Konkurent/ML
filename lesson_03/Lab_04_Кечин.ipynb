{
  "nbformat": 4,
  "nbformat_minor": 5,
  "metadata": {
    "kernelspec": {
      "display_name": "Python 3",
      "language": "python",
      "name": "python3"
    },
    "language_info": {
      "codemirror_mode": {
        "name": "ipython",
        "version": 3
      },
      "file_extension": ".py",
      "mimetype": "text/x-python",
      "name": "python",
      "nbconvert_exporter": "python",
      "pygments_lexer": "ipython3",
      "version": "3.8.8"
    },
    "colab": {
      "name": "Lab-04_after-29-09-2021.ipynb",
      "provenance": []
    }
  },
  "cells": [
    {
      "cell_type": "markdown",
      "metadata": {
        "id": "a1aef29b"
      },
      "source": [
        "`Дисциплина: Методы и технологии машинного обучения`   \n",
        "`Уровень подготовки: бакалавриат`   \n",
        "`Направление подготовки: 01.03.02 Прикладная математика и информатика`   \n",
        "`Семестр: осень 2021/2022`   \n",
        "\n",
        "Работу выполнил Кечин Дмитрий, ПМИ 3-1\n",
        "\n",
        "\n",
        "# Лабораторная работа №4: Методы снижения размерности. Регуляризация логистической регрессии. \n",
        "\n",
        "В практических примерах ниже показано:   \n",
        "\n",
        "* как снижать размерность пространства признаков методами главных компонент (PCR), частных наименьшах квадратов (PLS)  \n",
        "* как строить логистическую регрессию с регуляризацией параметров (методы ридж и лассо) \n",
        "\n",
        "Точность всех моделей оценивается методом перекрёстной проверки по 10 блокам.  \n",
        "\n",
        "*Модели*: множественная линейная регрессия \n",
        "*Данные*: `Wines` (источник: [репозиторий к книге С.Рашки Python и машинное обучение, глава 4](https://github.com/rasbt/python-machine-learning-book-3rd-edition/tree/master/ch04))"
      ],
      "id": "a1aef29b"
    },
    {
      "cell_type": "markdown",
      "metadata": {
        "id": "61b9ab5d"
      },
      "source": [
        "# Указания к выполнению\n",
        "\n",
        "\n",
        "## Загружаем пакеты"
      ],
      "id": "61b9ab5d"
    },
    {
      "cell_type": "code",
      "metadata": {
        "id": "c8fa189c"
      },
      "source": [
        "# загрузка пакетов: инструменты --------------------------------------------\n",
        "#  работа с массивами\n",
        "import numpy as np\n",
        "#  фреймы данных\n",
        "import pandas as pd\n",
        "#  распределение Стьюдента для проверки значимости\n",
        "from scipy.stats import t\n",
        "# подсчёт частот внутри массива\n",
        "from collections import Counter\n",
        "#  графики\n",
        "import matplotlib as mpl\n",
        "#  стили и шаблоны графиков на основе matplotlib\n",
        "import seaborn as sns\n",
        "\n",
        "# загрузка пакетов: данные -------------------------------------------------\n",
        "from sklearn import datasets\n",
        "\n",
        "# загрузка пакетов: модели -------------------------------------------------\n",
        "#  стандартизация показателей\n",
        "from sklearn.preprocessing import StandardScaler\n",
        "#  метод главных компонент\n",
        "from sklearn.decomposition import PCA\n",
        "# метод частных наименьших квадратов\n",
        "from sklearn.cross_decomposition import PLSRegression\n",
        "#  логистическая регрессия (ММП)\n",
        "from sklearn.linear_model import LogisticRegression, LogisticRegressionCV\n",
        "#  перекрёстная проверка по k блокам\n",
        "from sklearn.model_selection import KFold, cross_val_score\n",
        "#  расчёт Acc и сводка по точности классификации\n",
        "from sklearn.metrics import accuracy_score, classification_report"
      ],
      "id": "c8fa189c",
      "execution_count": 273,
      "outputs": []
    },
    {
      "cell_type": "code",
      "metadata": {
        "id": "43a4a48e"
      },
      "source": [
        "# константы\n",
        "#  ядро для генератора случайных чисел\n",
        "my_seed = 10\n",
        "#  создаём псевдоним для короткого обращения к графикам\n",
        "plt = mpl.pyplot\n",
        "# настройка стиля и отображения графиков\n",
        "#  примеры стилей и шаблонов графиков: \n",
        "#  http://tonysyu.github.io/raw_content/matplotlib-style-gallery/gallery.html\n",
        "mpl.style.use('seaborn-whitegrid')\n",
        "sns.set_palette(\"Set2\")\n",
        "# раскомментируйте следующую строку, чтобы посмотреть палитру\n",
        "# sns.color_palette(\"Set2\")"
      ],
      "id": "43a4a48e",
      "execution_count": 274,
      "outputs": []
    },
    {
      "cell_type": "code",
      "metadata": {
        "id": "29d97f61"
      },
      "source": [
        "# функция, которая строит график сжатия коэффициентов в ридж и лассо\n",
        "#  из репозитория к книге С.Рашки Python и машинное обучение,\n",
        "#  слегка переработанная\n",
        "def plot_coeffs_traces (X, y, class_number, penalty_name, C_opt, col_names,\n",
        "                        C_min_pow=-4, C_max_pow=3.) :\n",
        "    fig = plt.figure()\n",
        "    ax = plt.subplot(111)    \n",
        "    \n",
        "    # палитра\n",
        "    colors = sns.color_palette(\"Spectral\", len(col_names)-1)\n",
        "    \n",
        "    weights, params = [], []\n",
        "    for c in np.arange(C_min_pow, C_max_pow+1):\n",
        "        lr = LogisticRegression(penalty=penalty_name, \n",
        "                                C=10.**c, solver='liblinear', \n",
        "                                multi_class='ovr', random_state=my_seed)\n",
        "        lr.fit(X, y)\n",
        "        weights.append(lr.coef_[class_number])\n",
        "        params.append(10**c)\n",
        "\n",
        "    weights = np.array(weights)\n",
        "\n",
        "    for column, color in zip(range(weights.shape[1]), colors):\n",
        "        plt.plot(params, weights[:, column],\n",
        "                 label=col_names[column],\n",
        "                 color=color)\n",
        "\n",
        "    # отсечки по оптимальным C\n",
        "    plt.axvline(x=C_opt[class_number], color='magenta', \n",
        "                linestyle='--', linewidth=1)\n",
        "\n",
        "    plt.axhline(0, color='black', linestyle='--', linewidth=1)\n",
        "    plt.xlim([10**(C_min_pow), 10**C_max_pow])\n",
        "    plt.ylabel('weight coefficient')\n",
        "    plt.xlabel('C')\n",
        "    plt.xscale('log')\n",
        "    plt.legend(loc='upper left')\n",
        "    ax.legend(loc='upper center', \n",
        "              bbox_to_anchor=(1.38, 1.03),\n",
        "              ncol=1, fancybox=True)\n",
        "    plt.show()"
      ],
      "id": "29d97f61",
      "execution_count": 275,
      "outputs": []
    },
    {
      "cell_type": "markdown",
      "metadata": {
        "id": "87618f1b"
      },
      "source": [
        "## Загружаем данные\n",
        "\n",
        "* `fixed_acidity` – постоянная кислотность;\n",
        "* `volatile_acidity` – переменная кислотность;\n",
        "* `citric_acid` – содержание лимонной кислоты;\n",
        "* `residual_sugar` – остаточный сахар;\n",
        "* `chlorides` – содержание хлоридов;\n",
        "* `free_sulfur_dioxide` – содержание диоксида серы в свободном виде;\n",
        "* `total_sulfur_dioxide` – общее содержание диоксида серы;\n",
        "* `density` – плотность;\n",
        "* `pH` – кислотность;\n",
        "* `sulphates` – содержание сульфатов;\n",
        "* `alcohol` – содержание алкоголя;\n",
        "* `quality` – балльная оценка качества вина, от 0 до 10;\n",
        "* `Y` – целевая переменная: 1 = высокое качество (quality > 5), 0 = низкое (quality <= 5). \n",
        "\n",
        "Загружаем данные во фрейм и выясняем их размерность.  "
      ],
      "id": "87618f1b"
    },
    {
      "cell_type": "code",
      "metadata": {
        "colab": {
          "base_uri": "https://localhost:8080/"
        },
        "id": "a7e42f2c",
        "outputId": "4fd0a4a1-5792-491b-b10d-03b8fe9426b5"
      },
      "source": [
        "# загружаем таблицу и превращаем её во фрейм\n",
        "DF_all = pd.read_csv('https://raw.githubusercontent.com/aksyuk/MTML/main/Labs/data/winequality-red_for_lab.csv')\n",
        "\n",
        "# выясняем размерность фрейма\n",
        "print('Число строк и столбцов в наборе данных:\\n', DF_all.shape)"
      ],
      "id": "a7e42f2c",
      "execution_count": 276,
      "outputs": [
        {
          "output_type": "stream",
          "name": "stdout",
          "text": [
            "Число строк и столбцов в наборе данных:\n",
            " (1599, 13)\n"
          ]
        }
      ]
    },
    {
      "cell_type": "code",
      "metadata": {
        "colab": {
          "base_uri": "https://localhost:8080/",
          "height": 359
        },
        "id": "CDy2FdFGRWlj",
        "outputId": "9a85a4c3-62d7-4dc6-a0dd-104c6ccddb77"
      },
      "source": [
        "# дропнем переменные, которые не относятся к нашему варианту\n",
        "DF_all = DF_all.drop('quality', axis=1)\n",
        "DF_all.head(10)"
      ],
      "id": "CDy2FdFGRWlj",
      "execution_count": 277,
      "outputs": [
        {
          "output_type": "execute_result",
          "data": {
            "text/html": [
              "<div>\n",
              "<style scoped>\n",
              "    .dataframe tbody tr th:only-of-type {\n",
              "        vertical-align: middle;\n",
              "    }\n",
              "\n",
              "    .dataframe tbody tr th {\n",
              "        vertical-align: top;\n",
              "    }\n",
              "\n",
              "    .dataframe thead th {\n",
              "        text-align: right;\n",
              "    }\n",
              "</style>\n",
              "<table border=\"1\" class=\"dataframe\">\n",
              "  <thead>\n",
              "    <tr style=\"text-align: right;\">\n",
              "      <th></th>\n",
              "      <th>fixed_acidity</th>\n",
              "      <th>volatile_acidity</th>\n",
              "      <th>citric_acid</th>\n",
              "      <th>residual_sugar</th>\n",
              "      <th>chlorides</th>\n",
              "      <th>free_sulfur_dioxide</th>\n",
              "      <th>total_sulfur_dioxide</th>\n",
              "      <th>density</th>\n",
              "      <th>pH</th>\n",
              "      <th>sulphates</th>\n",
              "      <th>alcohol</th>\n",
              "      <th>Y</th>\n",
              "    </tr>\n",
              "  </thead>\n",
              "  <tbody>\n",
              "    <tr>\n",
              "      <th>0</th>\n",
              "      <td>7.4</td>\n",
              "      <td>0.70</td>\n",
              "      <td>0.00</td>\n",
              "      <td>1.9</td>\n",
              "      <td>0.076</td>\n",
              "      <td>11.0</td>\n",
              "      <td>34.0</td>\n",
              "      <td>0.9978</td>\n",
              "      <td>3.51</td>\n",
              "      <td>0.56</td>\n",
              "      <td>9.4</td>\n",
              "      <td>0</td>\n",
              "    </tr>\n",
              "    <tr>\n",
              "      <th>1</th>\n",
              "      <td>7.8</td>\n",
              "      <td>0.88</td>\n",
              "      <td>0.00</td>\n",
              "      <td>2.6</td>\n",
              "      <td>0.098</td>\n",
              "      <td>25.0</td>\n",
              "      <td>67.0</td>\n",
              "      <td>0.9968</td>\n",
              "      <td>3.20</td>\n",
              "      <td>0.68</td>\n",
              "      <td>9.8</td>\n",
              "      <td>0</td>\n",
              "    </tr>\n",
              "    <tr>\n",
              "      <th>2</th>\n",
              "      <td>7.8</td>\n",
              "      <td>0.76</td>\n",
              "      <td>0.04</td>\n",
              "      <td>2.3</td>\n",
              "      <td>0.092</td>\n",
              "      <td>15.0</td>\n",
              "      <td>54.0</td>\n",
              "      <td>0.9970</td>\n",
              "      <td>3.26</td>\n",
              "      <td>0.65</td>\n",
              "      <td>9.8</td>\n",
              "      <td>0</td>\n",
              "    </tr>\n",
              "    <tr>\n",
              "      <th>3</th>\n",
              "      <td>11.2</td>\n",
              "      <td>0.28</td>\n",
              "      <td>0.56</td>\n",
              "      <td>1.9</td>\n",
              "      <td>0.075</td>\n",
              "      <td>17.0</td>\n",
              "      <td>60.0</td>\n",
              "      <td>0.9980</td>\n",
              "      <td>3.16</td>\n",
              "      <td>0.58</td>\n",
              "      <td>9.8</td>\n",
              "      <td>1</td>\n",
              "    </tr>\n",
              "    <tr>\n",
              "      <th>4</th>\n",
              "      <td>7.4</td>\n",
              "      <td>0.70</td>\n",
              "      <td>0.00</td>\n",
              "      <td>1.9</td>\n",
              "      <td>0.076</td>\n",
              "      <td>11.0</td>\n",
              "      <td>34.0</td>\n",
              "      <td>0.9978</td>\n",
              "      <td>3.51</td>\n",
              "      <td>0.56</td>\n",
              "      <td>9.4</td>\n",
              "      <td>0</td>\n",
              "    </tr>\n",
              "    <tr>\n",
              "      <th>5</th>\n",
              "      <td>7.4</td>\n",
              "      <td>0.66</td>\n",
              "      <td>0.00</td>\n",
              "      <td>1.8</td>\n",
              "      <td>0.075</td>\n",
              "      <td>13.0</td>\n",
              "      <td>40.0</td>\n",
              "      <td>0.9978</td>\n",
              "      <td>3.51</td>\n",
              "      <td>0.56</td>\n",
              "      <td>9.4</td>\n",
              "      <td>0</td>\n",
              "    </tr>\n",
              "    <tr>\n",
              "      <th>6</th>\n",
              "      <td>7.9</td>\n",
              "      <td>0.60</td>\n",
              "      <td>0.06</td>\n",
              "      <td>1.6</td>\n",
              "      <td>0.069</td>\n",
              "      <td>15.0</td>\n",
              "      <td>59.0</td>\n",
              "      <td>0.9964</td>\n",
              "      <td>3.30</td>\n",
              "      <td>0.46</td>\n",
              "      <td>9.4</td>\n",
              "      <td>0</td>\n",
              "    </tr>\n",
              "    <tr>\n",
              "      <th>7</th>\n",
              "      <td>7.3</td>\n",
              "      <td>0.65</td>\n",
              "      <td>0.00</td>\n",
              "      <td>1.2</td>\n",
              "      <td>0.065</td>\n",
              "      <td>15.0</td>\n",
              "      <td>21.0</td>\n",
              "      <td>0.9946</td>\n",
              "      <td>3.39</td>\n",
              "      <td>0.47</td>\n",
              "      <td>10.0</td>\n",
              "      <td>1</td>\n",
              "    </tr>\n",
              "    <tr>\n",
              "      <th>8</th>\n",
              "      <td>7.8</td>\n",
              "      <td>0.58</td>\n",
              "      <td>0.02</td>\n",
              "      <td>2.0</td>\n",
              "      <td>0.073</td>\n",
              "      <td>9.0</td>\n",
              "      <td>18.0</td>\n",
              "      <td>0.9968</td>\n",
              "      <td>3.36</td>\n",
              "      <td>0.57</td>\n",
              "      <td>9.5</td>\n",
              "      <td>1</td>\n",
              "    </tr>\n",
              "    <tr>\n",
              "      <th>9</th>\n",
              "      <td>7.5</td>\n",
              "      <td>0.50</td>\n",
              "      <td>0.36</td>\n",
              "      <td>6.1</td>\n",
              "      <td>0.071</td>\n",
              "      <td>17.0</td>\n",
              "      <td>102.0</td>\n",
              "      <td>0.9978</td>\n",
              "      <td>3.35</td>\n",
              "      <td>0.80</td>\n",
              "      <td>10.5</td>\n",
              "      <td>0</td>\n",
              "    </tr>\n",
              "  </tbody>\n",
              "</table>\n",
              "</div>"
            ],
            "text/plain": [
              "   fixed_acidity  volatile_acidity  citric_acid  ...  sulphates  alcohol  Y\n",
              "0            7.4              0.70         0.00  ...       0.56      9.4  0\n",
              "1            7.8              0.88         0.00  ...       0.68      9.8  0\n",
              "2            7.8              0.76         0.04  ...       0.65      9.8  0\n",
              "3           11.2              0.28         0.56  ...       0.58      9.8  1\n",
              "4            7.4              0.70         0.00  ...       0.56      9.4  0\n",
              "5            7.4              0.66         0.00  ...       0.56      9.4  0\n",
              "6            7.9              0.60         0.06  ...       0.46      9.4  0\n",
              "7            7.3              0.65         0.00  ...       0.47     10.0  1\n",
              "8            7.8              0.58         0.02  ...       0.57      9.5  1\n",
              "9            7.5              0.50         0.36  ...       0.80     10.5  0\n",
              "\n",
              "[10 rows x 12 columns]"
            ]
          },
          "metadata": {},
          "execution_count": 277
        }
      ]
    },
    {
      "cell_type": "markdown",
      "metadata": {
        "id": "5ce7ffd1"
      },
      "source": [
        "Отложим 10% наблюдений для прогноза.  "
      ],
      "id": "5ce7ffd1"
    },
    {
      "cell_type": "code",
      "metadata": {
        "id": "13f9300b"
      },
      "source": [
        "# наблюдения для моделирования\n",
        "DF = DF_all.sample(frac=0.85, random_state=my_seed)\n",
        "# отложенные наблюдения\n",
        "DF_predict = DF_all.drop(DF.index)"
      ],
      "id": "13f9300b",
      "execution_count": 278,
      "outputs": []
    },
    {
      "cell_type": "code",
      "metadata": {
        "colab": {
          "base_uri": "https://localhost:8080/",
          "height": 204
        },
        "id": "2c2eedc8",
        "outputId": "5af71c2e-92d2-42fa-a8a2-ad85067b785f"
      },
      "source": [
        "# первые 5 строк фрейма у первых 7 столбцов\n",
        "DF.head(5)"
      ],
      "id": "2c2eedc8",
      "execution_count": 279,
      "outputs": [
        {
          "output_type": "execute_result",
          "data": {
            "text/html": [
              "<div>\n",
              "<style scoped>\n",
              "    .dataframe tbody tr th:only-of-type {\n",
              "        vertical-align: middle;\n",
              "    }\n",
              "\n",
              "    .dataframe tbody tr th {\n",
              "        vertical-align: top;\n",
              "    }\n",
              "\n",
              "    .dataframe thead th {\n",
              "        text-align: right;\n",
              "    }\n",
              "</style>\n",
              "<table border=\"1\" class=\"dataframe\">\n",
              "  <thead>\n",
              "    <tr style=\"text-align: right;\">\n",
              "      <th></th>\n",
              "      <th>fixed_acidity</th>\n",
              "      <th>volatile_acidity</th>\n",
              "      <th>citric_acid</th>\n",
              "      <th>residual_sugar</th>\n",
              "      <th>chlorides</th>\n",
              "      <th>free_sulfur_dioxide</th>\n",
              "      <th>total_sulfur_dioxide</th>\n",
              "      <th>density</th>\n",
              "      <th>pH</th>\n",
              "      <th>sulphates</th>\n",
              "      <th>alcohol</th>\n",
              "      <th>Y</th>\n",
              "    </tr>\n",
              "  </thead>\n",
              "  <tbody>\n",
              "    <tr>\n",
              "      <th>1518</th>\n",
              "      <td>7.4</td>\n",
              "      <td>0.47</td>\n",
              "      <td>0.46</td>\n",
              "      <td>2.2</td>\n",
              "      <td>0.114</td>\n",
              "      <td>7.0</td>\n",
              "      <td>20.0</td>\n",
              "      <td>0.99647</td>\n",
              "      <td>3.32</td>\n",
              "      <td>0.63</td>\n",
              "      <td>10.5</td>\n",
              "      <td>0</td>\n",
              "    </tr>\n",
              "    <tr>\n",
              "      <th>1246</th>\n",
              "      <td>7.4</td>\n",
              "      <td>0.74</td>\n",
              "      <td>0.07</td>\n",
              "      <td>1.7</td>\n",
              "      <td>0.086</td>\n",
              "      <td>15.0</td>\n",
              "      <td>48.0</td>\n",
              "      <td>0.99502</td>\n",
              "      <td>3.12</td>\n",
              "      <td>0.48</td>\n",
              "      <td>10.0</td>\n",
              "      <td>0</td>\n",
              "    </tr>\n",
              "    <tr>\n",
              "      <th>544</th>\n",
              "      <td>14.3</td>\n",
              "      <td>0.31</td>\n",
              "      <td>0.74</td>\n",
              "      <td>1.8</td>\n",
              "      <td>0.075</td>\n",
              "      <td>6.0</td>\n",
              "      <td>15.0</td>\n",
              "      <td>1.00080</td>\n",
              "      <td>2.86</td>\n",
              "      <td>0.79</td>\n",
              "      <td>8.4</td>\n",
              "      <td>1</td>\n",
              "    </tr>\n",
              "    <tr>\n",
              "      <th>1343</th>\n",
              "      <td>7.5</td>\n",
              "      <td>0.51</td>\n",
              "      <td>0.02</td>\n",
              "      <td>1.7</td>\n",
              "      <td>0.084</td>\n",
              "      <td>13.0</td>\n",
              "      <td>31.0</td>\n",
              "      <td>0.99538</td>\n",
              "      <td>3.36</td>\n",
              "      <td>0.54</td>\n",
              "      <td>10.5</td>\n",
              "      <td>1</td>\n",
              "    </tr>\n",
              "    <tr>\n",
              "      <th>428</th>\n",
              "      <td>9.1</td>\n",
              "      <td>0.52</td>\n",
              "      <td>0.33</td>\n",
              "      <td>1.3</td>\n",
              "      <td>0.070</td>\n",
              "      <td>9.0</td>\n",
              "      <td>30.0</td>\n",
              "      <td>0.99780</td>\n",
              "      <td>3.24</td>\n",
              "      <td>0.60</td>\n",
              "      <td>9.3</td>\n",
              "      <td>0</td>\n",
              "    </tr>\n",
              "  </tbody>\n",
              "</table>\n",
              "</div>"
            ],
            "text/plain": [
              "      fixed_acidity  volatile_acidity  citric_acid  ...  sulphates  alcohol  Y\n",
              "1518            7.4              0.47         0.46  ...       0.63     10.5  0\n",
              "1246            7.4              0.74         0.07  ...       0.48     10.0  0\n",
              "544            14.3              0.31         0.74  ...       0.79      8.4  1\n",
              "1343            7.5              0.51         0.02  ...       0.54     10.5  1\n",
              "428             9.1              0.52         0.33  ...       0.60      9.3  0\n",
              "\n",
              "[5 rows x 12 columns]"
            ]
          },
          "metadata": {},
          "execution_count": 279
        }
      ]
    },
    {
      "cell_type": "code",
      "metadata": {
        "colab": {
          "base_uri": "https://localhost:8080/"
        },
        "id": "1e97a472",
        "outputId": "104898c0-c0e6-48fb-eb39-e52bda1c852b"
      },
      "source": [
        "# типы столбцов фрейма\n",
        "DF.dtypes"
      ],
      "id": "1e97a472",
      "execution_count": 280,
      "outputs": [
        {
          "output_type": "execute_result",
          "data": {
            "text/plain": [
              "fixed_acidity           float64\n",
              "volatile_acidity        float64\n",
              "citric_acid             float64\n",
              "residual_sugar          float64\n",
              "chlorides               float64\n",
              "free_sulfur_dioxide     float64\n",
              "total_sulfur_dioxide    float64\n",
              "density                 float64\n",
              "pH                      float64\n",
              "sulphates               float64\n",
              "alcohol                 float64\n",
              "Y                         int64\n",
              "dtype: object"
            ]
          },
          "metadata": {},
          "execution_count": 280
        }
      ]
    },
    {
      "cell_type": "markdown",
      "metadata": {
        "id": "d4a540a2"
      },
      "source": [
        "Проверим, нет ли в таблице пропусков.  "
      ],
      "id": "d4a540a2"
    },
    {
      "cell_type": "code",
      "metadata": {
        "colab": {
          "base_uri": "https://localhost:8080/"
        },
        "id": "42a96cd9",
        "outputId": "f2e57dfd-b178-4cdf-9d30-dc74a7b33e70"
      },
      "source": [
        "# считаем пропуски в каждом столбце\n",
        "DF.isna().sum()"
      ],
      "id": "42a96cd9",
      "execution_count": 281,
      "outputs": [
        {
          "output_type": "execute_result",
          "data": {
            "text/plain": [
              "fixed_acidity           0\n",
              "volatile_acidity        0\n",
              "citric_acid             0\n",
              "residual_sugar          0\n",
              "chlorides               0\n",
              "free_sulfur_dioxide     0\n",
              "total_sulfur_dioxide    0\n",
              "density                 0\n",
              "pH                      0\n",
              "sulphates               0\n",
              "alcohol                 0\n",
              "Y                       0\n",
              "dtype: int64"
            ]
          },
          "metadata": {},
          "execution_count": 281
        }
      ]
    },
    {
      "cell_type": "markdown",
      "metadata": {
        "id": "2941191c"
      },
      "source": [
        "Пропусков не обнаружено.  \n",
        "\n",
        "# Предварительный анализ данных  \n",
        "\n",
        "## Описательные статистики  \n",
        "\n",
        "Считаем доли классов целевой переменной `target`.  "
      ],
      "id": "2941191c"
    },
    {
      "cell_type": "code",
      "metadata": {
        "colab": {
          "base_uri": "https://localhost:8080/"
        },
        "id": "ad9c9120",
        "outputId": "5979391d-84bf-4090-bad1-306517309a64"
      },
      "source": [
        "# метки классов\n",
        "DF.Y.unique()"
      ],
      "id": "ad9c9120",
      "execution_count": 282,
      "outputs": [
        {
          "output_type": "execute_result",
          "data": {
            "text/plain": [
              "array([0, 1])"
            ]
          },
          "metadata": {},
          "execution_count": 282
        }
      ]
    },
    {
      "cell_type": "code",
      "metadata": {
        "colab": {
          "base_uri": "https://localhost:8080/"
        },
        "id": "1807f21e",
        "outputId": "b9e5ba09-1272-41af-9dfa-57ba758e6cac"
      },
      "source": [
        "# доли классов\n",
        "np.around(DF.Y.value_counts() / len(DF.index), 3)"
      ],
      "id": "1807f21e",
      "execution_count": 283,
      "outputs": [
        {
          "output_type": "execute_result",
          "data": {
            "text/plain": [
              "1    0.525\n",
              "0    0.475\n",
              "Name: Y, dtype: float64"
            ]
          },
          "metadata": {},
          "execution_count": 283
        }
      ]
    },
    {
      "cell_type": "markdown",
      "metadata": {
        "id": "e3216487"
      },
      "source": [
        "Все объясняющие переменные набора данных непрерывные. Рассчитаем для них описательные статистики.  "
      ],
      "id": "e3216487"
    },
    {
      "cell_type": "code",
      "metadata": {
        "colab": {
          "base_uri": "https://localhost:8080/",
          "height": 297
        },
        "id": "068ba2f9",
        "outputId": "c0b53630-b973-457f-8832-bdac9dbb3ee8"
      },
      "source": [
        "# описательные статистики\n",
        "DF.describe()"
      ],
      "id": "068ba2f9",
      "execution_count": 284,
      "outputs": [
        {
          "output_type": "execute_result",
          "data": {
            "text/html": [
              "<div>\n",
              "<style scoped>\n",
              "    .dataframe tbody tr th:only-of-type {\n",
              "        vertical-align: middle;\n",
              "    }\n",
              "\n",
              "    .dataframe tbody tr th {\n",
              "        vertical-align: top;\n",
              "    }\n",
              "\n",
              "    .dataframe thead th {\n",
              "        text-align: right;\n",
              "    }\n",
              "</style>\n",
              "<table border=\"1\" class=\"dataframe\">\n",
              "  <thead>\n",
              "    <tr style=\"text-align: right;\">\n",
              "      <th></th>\n",
              "      <th>fixed_acidity</th>\n",
              "      <th>volatile_acidity</th>\n",
              "      <th>citric_acid</th>\n",
              "      <th>residual_sugar</th>\n",
              "      <th>chlorides</th>\n",
              "      <th>free_sulfur_dioxide</th>\n",
              "      <th>total_sulfur_dioxide</th>\n",
              "      <th>density</th>\n",
              "      <th>pH</th>\n",
              "      <th>sulphates</th>\n",
              "      <th>alcohol</th>\n",
              "      <th>Y</th>\n",
              "    </tr>\n",
              "  </thead>\n",
              "  <tbody>\n",
              "    <tr>\n",
              "      <th>count</th>\n",
              "      <td>1359.000000</td>\n",
              "      <td>1359.000000</td>\n",
              "      <td>1359.000000</td>\n",
              "      <td>1359.000000</td>\n",
              "      <td>1359.000000</td>\n",
              "      <td>1359.000000</td>\n",
              "      <td>1359.000000</td>\n",
              "      <td>1359.000000</td>\n",
              "      <td>1359.000000</td>\n",
              "      <td>1359.000000</td>\n",
              "      <td>1359.000000</td>\n",
              "      <td>1359.000000</td>\n",
              "    </tr>\n",
              "    <tr>\n",
              "      <th>mean</th>\n",
              "      <td>8.282561</td>\n",
              "      <td>0.528503</td>\n",
              "      <td>0.268506</td>\n",
              "      <td>2.501288</td>\n",
              "      <td>0.087788</td>\n",
              "      <td>16.063282</td>\n",
              "      <td>47.189845</td>\n",
              "      <td>0.996716</td>\n",
              "      <td>3.313297</td>\n",
              "      <td>0.659007</td>\n",
              "      <td>10.410755</td>\n",
              "      <td>0.524650</td>\n",
              "    </tr>\n",
              "    <tr>\n",
              "      <th>std</th>\n",
              "      <td>1.716960</td>\n",
              "      <td>0.178512</td>\n",
              "      <td>0.193256</td>\n",
              "      <td>1.370224</td>\n",
              "      <td>0.047647</td>\n",
              "      <td>10.591927</td>\n",
              "      <td>33.564421</td>\n",
              "      <td>0.001873</td>\n",
              "      <td>0.156033</td>\n",
              "      <td>0.171438</td>\n",
              "      <td>1.052374</td>\n",
              "      <td>0.499576</td>\n",
              "    </tr>\n",
              "    <tr>\n",
              "      <th>min</th>\n",
              "      <td>4.600000</td>\n",
              "      <td>0.120000</td>\n",
              "      <td>0.000000</td>\n",
              "      <td>0.900000</td>\n",
              "      <td>0.012000</td>\n",
              "      <td>1.000000</td>\n",
              "      <td>6.000000</td>\n",
              "      <td>0.990070</td>\n",
              "      <td>2.740000</td>\n",
              "      <td>0.330000</td>\n",
              "      <td>8.400000</td>\n",
              "      <td>0.000000</td>\n",
              "    </tr>\n",
              "    <tr>\n",
              "      <th>25%</th>\n",
              "      <td>7.100000</td>\n",
              "      <td>0.400000</td>\n",
              "      <td>0.090000</td>\n",
              "      <td>1.900000</td>\n",
              "      <td>0.070000</td>\n",
              "      <td>7.000000</td>\n",
              "      <td>22.000000</td>\n",
              "      <td>0.995600</td>\n",
              "      <td>3.210000</td>\n",
              "      <td>0.550000</td>\n",
              "      <td>9.500000</td>\n",
              "      <td>0.000000</td>\n",
              "    </tr>\n",
              "    <tr>\n",
              "      <th>50%</th>\n",
              "      <td>7.900000</td>\n",
              "      <td>0.520000</td>\n",
              "      <td>0.250000</td>\n",
              "      <td>2.200000</td>\n",
              "      <td>0.079000</td>\n",
              "      <td>14.000000</td>\n",
              "      <td>38.000000</td>\n",
              "      <td>0.996720</td>\n",
              "      <td>3.310000</td>\n",
              "      <td>0.620000</td>\n",
              "      <td>10.100000</td>\n",
              "      <td>1.000000</td>\n",
              "    </tr>\n",
              "    <tr>\n",
              "      <th>75%</th>\n",
              "      <td>9.200000</td>\n",
              "      <td>0.640000</td>\n",
              "      <td>0.420000</td>\n",
              "      <td>2.600000</td>\n",
              "      <td>0.090000</td>\n",
              "      <td>22.000000</td>\n",
              "      <td>63.500000</td>\n",
              "      <td>0.997800</td>\n",
              "      <td>3.405000</td>\n",
              "      <td>0.730000</td>\n",
              "      <td>11.100000</td>\n",
              "      <td>1.000000</td>\n",
              "    </tr>\n",
              "    <tr>\n",
              "      <th>max</th>\n",
              "      <td>15.600000</td>\n",
              "      <td>1.580000</td>\n",
              "      <td>1.000000</td>\n",
              "      <td>15.400000</td>\n",
              "      <td>0.610000</td>\n",
              "      <td>72.000000</td>\n",
              "      <td>289.000000</td>\n",
              "      <td>1.003690</td>\n",
              "      <td>4.010000</td>\n",
              "      <td>2.000000</td>\n",
              "      <td>14.000000</td>\n",
              "      <td>1.000000</td>\n",
              "    </tr>\n",
              "  </tbody>\n",
              "</table>\n",
              "</div>"
            ],
            "text/plain": [
              "       fixed_acidity  volatile_acidity  ...      alcohol            Y\n",
              "count    1359.000000       1359.000000  ...  1359.000000  1359.000000\n",
              "mean        8.282561          0.528503  ...    10.410755     0.524650\n",
              "std         1.716960          0.178512  ...     1.052374     0.499576\n",
              "min         4.600000          0.120000  ...     8.400000     0.000000\n",
              "25%         7.100000          0.400000  ...     9.500000     0.000000\n",
              "50%         7.900000          0.520000  ...    10.100000     1.000000\n",
              "75%         9.200000          0.640000  ...    11.100000     1.000000\n",
              "max        15.600000          1.580000  ...    14.000000     1.000000\n",
              "\n",
              "[8 rows x 12 columns]"
            ]
          },
          "metadata": {},
          "execution_count": 284
        }
      ]
    },
    {
      "cell_type": "markdown",
      "metadata": {
        "id": "8fe7bbef"
      },
      "source": [
        "Выводы по описательным статистикам: значения объясняющих переменных положительные, масштабы измерения отличаются. Для работы с методами снижения размерности и регуляризации понадобится стандартизация значений.   \n",
        "\n",
        "## Визуализация разброса переменных внутри классов  \n",
        "\n",
        "Поскольку в наборе данных 11 объясняющих переменных, и все они непрерывные, анализ матричного графика разброса будет затруднительным. Построим коробчатые диаграммы для объясняющих переменных, чтобы сравнить средние уровни и разброс по классам.  "
      ],
      "id": "8fe7bbef"
    },
    {
      "cell_type": "code",
      "metadata": {
        "colab": {
          "base_uri": "https://localhost:8080/",
          "height": 369
        },
        "id": "d4ee5069",
        "outputId": "99ffe21d-0d68-4888-b1e8-f44491754ee4"
      },
      "source": [
        "# создаём полотно и делим его на четыре части\n",
        "fig = plt.figure(figsize=(12, 5))\n",
        "gs = mpl.gridspec.GridSpec(1, 5)\n",
        "ax1 = plt.subplot(gs[0, 0])\n",
        "ax2 = plt.subplot(gs[0, 1])\n",
        "ax3 = plt.subplot(gs[0, 2])\n",
        "ax4 = plt.subplot(gs[0, 3])\n",
        "ax5 = plt.subplot(gs[0, 4])\n",
        "\n",
        "axs = [ax1, ax2, ax3, ax4, ax5]\n",
        "\n",
        "cols_loop = list(DF.columns[:5].values)\n",
        "for col_name in cols_loop :\n",
        "    i = cols_loop.index(col_name)\n",
        "    sns.boxplot(x='Y', y=col_name, data=DF, ax=axs[i])\n",
        "    axs[i].set_ylabel(col_name)\n",
        "    axs[i].set_title(col_name)\n",
        "\n",
        "# корректируем расположение графиков на полотне\n",
        "gs.tight_layout(plt.gcf())\n",
        "plt.show()"
      ],
      "id": "d4ee5069",
      "execution_count": 285,
      "outputs": [
        {
          "output_type": "display_data",
          "data": {
            "image/png": "[encoded data removed]",
            "text/plain": [
              "<Figure size 864x360 with 5 Axes>"
            ]
          },
          "metadata": {}
        }
      ]
    },
    {
      "cell_type": "code",
      "metadata": {
        "colab": {
          "base_uri": "https://localhost:8080/",
          "height": 369
        },
        "id": "af48928a",
        "outputId": "7e37259b-4c79-4d13-ca26-f84eb3bdd16c"
      },
      "source": [
        "# создаём полотно и делим его на четыре части\n",
        "fig = plt.figure(figsize=(12, 5))\n",
        "gs = mpl.gridspec.GridSpec(1, 5)\n",
        "ax1 = plt.subplot(gs[0, 0])\n",
        "ax2 = plt.subplot(gs[0, 1])\n",
        "ax3 = plt.subplot(gs[0, 2])\n",
        "ax4 = plt.subplot(gs[0, 3])\n",
        "ax5 = plt.subplot(gs[0, 4])\n",
        "\n",
        "axs = [ax1, ax2, ax3, ax4, ax5]\n",
        "\n",
        "cols_loop = list(DF.columns[5:10].values)\n",
        "for col_name in cols_loop :\n",
        "    i = cols_loop.index(col_name)\n",
        "    sns.boxplot(x='Y', y=col_name, data=DF, ax=axs[i])\n",
        "    axs[i].set_ylabel(col_name)\n",
        "    axs[i].set_title(col_name)\n",
        "\n",
        "# корректируем расположение графиков на полотне\n",
        "gs.tight_layout(plt.gcf())\n",
        "plt.show()"
      ],
      "id": "af48928a",
      "execution_count": 286,
      "outputs": [
        {
          "output_type": "display_data",
          "data": {
            "image/png": "[encoded data removed]",
            "text/plain": [
              "<Figure size 864x360 with 5 Axes>"
            ]
          },
          "metadata": {}
        }
      ]
    },
    {
      "cell_type": "code",
      "metadata": {
        "colab": {
          "base_uri": "https://localhost:8080/",
          "height": 369
        },
        "id": "742bbdd3",
        "outputId": "e0dbd9dd-ea8d-4bc4-a2b1-f6af633fd6ee"
      },
      "source": [
        "# создаём полотно и делим его на четыре части\n",
        "fig = plt.figure(figsize=(7.2, 5))\n",
        "gs = mpl.gridspec.GridSpec(1, 3)\n",
        "ax1 = plt.subplot(gs[0, 0])\n",
        "ax2 = plt.subplot(gs[0, 1])\n",
        "\n",
        "axs = [ax1, ax2]\n",
        "\n",
        "\n",
        "cols_loop = list(DF.columns[10:12].values)\n",
        "for col_name in cols_loop :\n",
        "    i = cols_loop.index(col_name)\n",
        "    sns.boxplot(x='Y', y=col_name, data=DF, ax=axs[i])\n",
        "    axs[i].set_ylabel(col_name)\n",
        "    axs[i].set_title(col_name)\n",
        "\n",
        "# корректируем расположение графиков на полотне\n",
        "gs.tight_layout(plt.gcf())\n",
        "plt.show()"
      ],
      "id": "742bbdd3",
      "execution_count": 287,
      "outputs": [
        {
          "output_type": "display_data",
          "data": {
            "image/png": "[encoded data removed]",
            "text/plain": [
              "<Figure size 518.4x360 with 2 Axes>"
            ]
          },
          "metadata": {}
        }
      ]
    },
    {
      "cell_type": "markdown",
      "metadata": {
        "id": "c4e9584f"
      },
      "source": [
        "На графиках отличие в медианах и разбросе между классами прослеживается практически по всем объясняющим переменным. Меньше всего различаются коробчатые диаграммы по переменным `pH` и `residual_sugar`, `density` и `chlorides`. Это говорит о том, классы по зависимой переменной Y неплохо разделяются по всем объясняющим переменным."
      ],
      "id": "c4e9584f"
    },
    {
      "cell_type": "markdown",
      "metadata": {
        "id": "bac7542b"
      },
      "source": [
        "## Корреляционный анализ   \n",
        "\n",
        "Теперь посмотрим на взаимодействие объясняющих переменных.  "
      ],
      "id": "bac7542b"
    },
    {
      "cell_type": "code",
      "metadata": {
        "colab": {
          "base_uri": "https://localhost:8080/",
          "height": 602
        },
        "id": "11a7b0c4",
        "outputId": "b0fdf804-bbeb-4153-f4db-65f6cc214be7"
      },
      "source": [
        "# рассчитываем корреляционную матрицу\n",
        "corr_mat = DF.drop('Y', axis=1).corr()\n",
        "col_names = DF.drop('Y', axis=1).columns\n",
        "\n",
        "# переключаем стиль оформления, чтобы убрать сетку с тепловой карты\n",
        "mpl.style.use('seaborn-white')\n",
        "\n",
        "# рисуем корреляционную матрицу\n",
        "f = plt.figure(figsize=(10, 8))\n",
        "plt.matshow(corr_mat, fignum=f.number, cmap='PiYG')\n",
        "# координаты для названий строк и столбцов\n",
        "tics_coords = np.arange(0, len(col_names))\n",
        "# рисуем подписи\n",
        "plt.xticks(tics_coords, col_names, fontsize=14, rotation=90)\n",
        "plt.yticks(tics_coords, col_names, fontsize=14)\n",
        "# настраиваем легенду справа от тепловой карты\n",
        "cb = plt.colorbar()\n",
        "cb.ax.tick_params(labelsize=14)\n",
        "cb.ax.tick_params(labelsize=14)\n",
        "plt.show()"
      ],
      "id": "11a7b0c4",
      "execution_count": 288,
      "outputs": [
        {
          "output_type": "display_data",
          "data": {
            "image/png": "[encoded data removed]",
            "text/plain": [
              "<Figure size 720x576 with 2 Axes>"
            ]
          },
          "metadata": {}
        }
      ]
    },
    {
      "cell_type": "markdown",
      "metadata": {
        "id": "b47250c6"
      },
      "source": [
        "Между объясняющими переменными обнаруживаются как прямые, так и обратные линейные взаимосвязи. Выведем все значимые коэффициенты в одной таблице и определим минимальный / максимальный из них.     "
      ],
      "id": "b47250c6"
    },
    {
      "cell_type": "code",
      "metadata": {
        "colab": {
          "base_uri": "https://localhost:8080/",
          "height": 1000
        },
        "id": "bf56e251",
        "outputId": "c8b23f7c-8c2a-4571-c54c-48c7e6fddee4"
      },
      "source": [
        "# делаем фрейм из корреляционной матрицы и стираем диагональные значения\n",
        "#  и нижний треугольник матрицы\n",
        "df = corr_mat\n",
        "df = df.where(np.triu(np.ones(df.shape), k=1).astype(bool))\n",
        "# меняем размерность с матрицы на таблицу: показатель 1, показатель 2,\n",
        "#  корреляция\n",
        "df = df.stack().reset_index()\n",
        "df.columns = ['Показатель_1', 'Показатель_2', 'Корреляция']\n",
        "# считаем двусторонние p-значения для проверки значимости\n",
        "t_stat = np.sqrt((len(DF.index) - 2) / (1 - df.Корреляция ** 2))\n",
        "df['P_значение'] = 2 * (1 - t.cdf(abs(t_stat), len(DF.index) - 2))\n",
        "# получили все корреляционные коэффициенты без 1 и без повторов\n",
        "#  выводим все значимые с сортировкой\n",
        "df.loc[df['P_значение'] < 0.05].sort_values('Корреляция')"
      ],
      "id": "bf56e251",
      "execution_count": 289,
      "outputs": [
        {
          "output_type": "execute_result",
          "data": {
            "text/html": [
              "<div>\n",
              "<style scoped>\n",
              "    .dataframe tbody tr th:only-of-type {\n",
              "        vertical-align: middle;\n",
              "    }\n",
              "\n",
              "    .dataframe tbody tr th {\n",
              "        vertical-align: top;\n",
              "    }\n",
              "\n",
              "    .dataframe thead th {\n",
              "        text-align: right;\n",
              "    }\n",
              "</style>\n",
              "<table border=\"1\" class=\"dataframe\">\n",
              "  <thead>\n",
              "    <tr style=\"text-align: right;\">\n",
              "      <th></th>\n",
              "      <th>Показатель_1</th>\n",
              "      <th>Показатель_2</th>\n",
              "      <th>Корреляция</th>\n",
              "      <th>P_значение</th>\n",
              "    </tr>\n",
              "  </thead>\n",
              "  <tbody>\n",
              "    <tr>\n",
              "      <th>7</th>\n",
              "      <td>fixed_acidity</td>\n",
              "      <td>pH</td>\n",
              "      <td>-0.677794</td>\n",
              "      <td>0.0</td>\n",
              "    </tr>\n",
              "    <tr>\n",
              "      <th>10</th>\n",
              "      <td>volatile_acidity</td>\n",
              "      <td>citric_acid</td>\n",
              "      <td>-0.543001</td>\n",
              "      <td>0.0</td>\n",
              "    </tr>\n",
              "    <tr>\n",
              "      <th>24</th>\n",
              "      <td>citric_acid</td>\n",
              "      <td>pH</td>\n",
              "      <td>-0.530855</td>\n",
              "      <td>0.0</td>\n",
              "    </tr>\n",
              "    <tr>\n",
              "      <th>51</th>\n",
              "      <td>density</td>\n",
              "      <td>alcohol</td>\n",
              "      <td>-0.515113</td>\n",
              "      <td>0.0</td>\n",
              "    </tr>\n",
              "    <tr>\n",
              "      <th>49</th>\n",
              "      <td>density</td>\n",
              "      <td>pH</td>\n",
              "      <td>-0.330045</td>\n",
              "      <td>0.0</td>\n",
              "    </tr>\n",
              "    <tr>\n",
              "      <th>37</th>\n",
              "      <td>chlorides</td>\n",
              "      <td>pH</td>\n",
              "      <td>-0.280087</td>\n",
              "      <td>0.0</td>\n",
              "    </tr>\n",
              "    <tr>\n",
              "      <th>17</th>\n",
              "      <td>volatile_acidity</td>\n",
              "      <td>sulphates</td>\n",
              "      <td>-0.257475</td>\n",
              "      <td>0.0</td>\n",
              "    </tr>\n",
              "    <tr>\n",
              "      <th>0</th>\n",
              "      <td>fixed_acidity</td>\n",
              "      <td>volatile_acidity</td>\n",
              "      <td>-0.246869</td>\n",
              "      <td>0.0</td>\n",
              "    </tr>\n",
              "    <tr>\n",
              "      <th>39</th>\n",
              "      <td>chlorides</td>\n",
              "      <td>alcohol</td>\n",
              "      <td>-0.238417</td>\n",
              "      <td>0.0</td>\n",
              "    </tr>\n",
              "    <tr>\n",
              "      <th>52</th>\n",
              "      <td>pH</td>\n",
              "      <td>sulphates</td>\n",
              "      <td>-0.214411</td>\n",
              "      <td>0.0</td>\n",
              "    </tr>\n",
              "    <tr>\n",
              "      <th>18</th>\n",
              "      <td>volatile_acidity</td>\n",
              "      <td>alcohol</td>\n",
              "      <td>-0.205998</td>\n",
              "      <td>0.0</td>\n",
              "    </tr>\n",
              "    <tr>\n",
              "      <th>48</th>\n",
              "      <td>total_sulfur_dioxide</td>\n",
              "      <td>alcohol</td>\n",
              "      <td>-0.202851</td>\n",
              "      <td>0.0</td>\n",
              "    </tr>\n",
              "    <tr>\n",
              "      <th>4</th>\n",
              "      <td>fixed_acidity</td>\n",
              "      <td>free_sulfur_dioxide</td>\n",
              "      <td>-0.157031</td>\n",
              "      <td>0.0</td>\n",
              "    </tr>\n",
              "    <tr>\n",
              "      <th>5</th>\n",
              "      <td>fixed_acidity</td>\n",
              "      <td>total_sulfur_dioxide</td>\n",
              "      <td>-0.116256</td>\n",
              "      <td>0.0</td>\n",
              "    </tr>\n",
              "    <tr>\n",
              "      <th>9</th>\n",
              "      <td>fixed_acidity</td>\n",
              "      <td>alcohol</td>\n",
              "      <td>-0.087286</td>\n",
              "      <td>0.0</td>\n",
              "    </tr>\n",
              "    <tr>\n",
              "      <th>31</th>\n",
              "      <td>residual_sugar</td>\n",
              "      <td>pH</td>\n",
              "      <td>-0.070527</td>\n",
              "      <td>0.0</td>\n",
              "    </tr>\n",
              "    <tr>\n",
              "      <th>44</th>\n",
              "      <td>free_sulfur_dioxide</td>\n",
              "      <td>alcohol</td>\n",
              "      <td>-0.070466</td>\n",
              "      <td>0.0</td>\n",
              "    </tr>\n",
              "    <tr>\n",
              "      <th>46</th>\n",
              "      <td>total_sulfur_dioxide</td>\n",
              "      <td>pH</td>\n",
              "      <td>-0.066240</td>\n",
              "      <td>0.0</td>\n",
              "    </tr>\n",
              "    <tr>\n",
              "      <th>21</th>\n",
              "      <td>citric_acid</td>\n",
              "      <td>free_sulfur_dioxide</td>\n",
              "      <td>-0.057865</td>\n",
              "      <td>0.0</td>\n",
              "    </tr>\n",
              "    <tr>\n",
              "      <th>41</th>\n",
              "      <td>free_sulfur_dioxide</td>\n",
              "      <td>density</td>\n",
              "      <td>-0.015890</td>\n",
              "      <td>0.0</td>\n",
              "    </tr>\n",
              "    <tr>\n",
              "      <th>13</th>\n",
              "      <td>volatile_acidity</td>\n",
              "      <td>free_sulfur_dioxide</td>\n",
              "      <td>-0.012871</td>\n",
              "      <td>0.0</td>\n",
              "    </tr>\n",
              "    <tr>\n",
              "      <th>32</th>\n",
              "      <td>residual_sugar</td>\n",
              "      <td>sulphates</td>\n",
              "      <td>-0.005114</td>\n",
              "      <td>0.0</td>\n",
              "    </tr>\n",
              "    <tr>\n",
              "      <th>34</th>\n",
              "      <td>chlorides</td>\n",
              "      <td>free_sulfur_dioxide</td>\n",
              "      <td>0.012886</td>\n",
              "      <td>0.0</td>\n",
              "    </tr>\n",
              "    <tr>\n",
              "      <th>11</th>\n",
              "      <td>volatile_acidity</td>\n",
              "      <td>residual_sugar</td>\n",
              "      <td>0.024199</td>\n",
              "      <td>0.0</td>\n",
              "    </tr>\n",
              "    <tr>\n",
              "      <th>33</th>\n",
              "      <td>residual_sugar</td>\n",
              "      <td>alcohol</td>\n",
              "      <td>0.035189</td>\n",
              "      <td>0.0</td>\n",
              "    </tr>\n",
              "    <tr>\n",
              "      <th>47</th>\n",
              "      <td>total_sulfur_dioxide</td>\n",
              "      <td>sulphates</td>\n",
              "      <td>0.036584</td>\n",
              "      <td>0.0</td>\n",
              "    </tr>\n",
              "    <tr>\n",
              "      <th>43</th>\n",
              "      <td>free_sulfur_dioxide</td>\n",
              "      <td>sulphates</td>\n",
              "      <td>0.037102</td>\n",
              "      <td>0.0</td>\n",
              "    </tr>\n",
              "    <tr>\n",
              "      <th>22</th>\n",
              "      <td>citric_acid</td>\n",
              "      <td>total_sulfur_dioxide</td>\n",
              "      <td>0.042593</td>\n",
              "      <td>0.0</td>\n",
              "    </tr>\n",
              "    <tr>\n",
              "      <th>15</th>\n",
              "      <td>volatile_acidity</td>\n",
              "      <td>density</td>\n",
              "      <td>0.044397</td>\n",
              "      <td>0.0</td>\n",
              "    </tr>\n",
              "    <tr>\n",
              "      <th>35</th>\n",
              "      <td>chlorides</td>\n",
              "      <td>total_sulfur_dioxide</td>\n",
              "      <td>0.047741</td>\n",
              "      <td>0.0</td>\n",
              "    </tr>\n",
              "    <tr>\n",
              "      <th>12</th>\n",
              "      <td>volatile_acidity</td>\n",
              "      <td>chlorides</td>\n",
              "      <td>0.068127</td>\n",
              "      <td>0.0</td>\n",
              "    </tr>\n",
              "    <tr>\n",
              "      <th>45</th>\n",
              "      <td>total_sulfur_dioxide</td>\n",
              "      <td>density</td>\n",
              "      <td>0.069330</td>\n",
              "      <td>0.0</td>\n",
              "    </tr>\n",
              "    <tr>\n",
              "      <th>27</th>\n",
              "      <td>residual_sugar</td>\n",
              "      <td>chlorides</td>\n",
              "      <td>0.070038</td>\n",
              "      <td>0.0</td>\n",
              "    </tr>\n",
              "    <tr>\n",
              "      <th>42</th>\n",
              "      <td>free_sulfur_dioxide</td>\n",
              "      <td>pH</td>\n",
              "      <td>0.073817</td>\n",
              "      <td>0.0</td>\n",
              "    </tr>\n",
              "    <tr>\n",
              "      <th>14</th>\n",
              "      <td>volatile_acidity</td>\n",
              "      <td>total_sulfur_dioxide</td>\n",
              "      <td>0.079849</td>\n",
              "      <td>0.0</td>\n",
              "    </tr>\n",
              "    <tr>\n",
              "      <th>2</th>\n",
              "      <td>fixed_acidity</td>\n",
              "      <td>residual_sugar</td>\n",
              "      <td>0.089937</td>\n",
              "      <td>0.0</td>\n",
              "    </tr>\n",
              "    <tr>\n",
              "      <th>54</th>\n",
              "      <td>sulphates</td>\n",
              "      <td>alcohol</td>\n",
              "      <td>0.090389</td>\n",
              "      <td>0.0</td>\n",
              "    </tr>\n",
              "    <tr>\n",
              "      <th>26</th>\n",
              "      <td>citric_acid</td>\n",
              "      <td>alcohol</td>\n",
              "      <td>0.097778</td>\n",
              "      <td>0.0</td>\n",
              "    </tr>\n",
              "    <tr>\n",
              "      <th>3</th>\n",
              "      <td>fixed_acidity</td>\n",
              "      <td>chlorides</td>\n",
              "      <td>0.109481</td>\n",
              "      <td>0.0</td>\n",
              "    </tr>\n",
              "    <tr>\n",
              "      <th>19</th>\n",
              "      <td>citric_acid</td>\n",
              "      <td>residual_sugar</td>\n",
              "      <td>0.130995</td>\n",
              "      <td>0.0</td>\n",
              "    </tr>\n",
              "    <tr>\n",
              "      <th>50</th>\n",
              "      <td>density</td>\n",
              "      <td>sulphates</td>\n",
              "      <td>0.140350</td>\n",
              "      <td>0.0</td>\n",
              "    </tr>\n",
              "    <tr>\n",
              "      <th>8</th>\n",
              "      <td>fixed_acidity</td>\n",
              "      <td>sulphates</td>\n",
              "      <td>0.184393</td>\n",
              "      <td>0.0</td>\n",
              "    </tr>\n",
              "    <tr>\n",
              "      <th>20</th>\n",
              "      <td>citric_acid</td>\n",
              "      <td>chlorides</td>\n",
              "      <td>0.218309</td>\n",
              "      <td>0.0</td>\n",
              "    </tr>\n",
              "    <tr>\n",
              "      <th>36</th>\n",
              "      <td>chlorides</td>\n",
              "      <td>density</td>\n",
              "      <td>0.219371</td>\n",
              "      <td>0.0</td>\n",
              "    </tr>\n",
              "    <tr>\n",
              "      <th>53</th>\n",
              "      <td>pH</td>\n",
              "      <td>alcohol</td>\n",
              "      <td>0.223427</td>\n",
              "      <td>0.0</td>\n",
              "    </tr>\n",
              "    <tr>\n",
              "      <th>16</th>\n",
              "      <td>volatile_acidity</td>\n",
              "      <td>pH</td>\n",
              "      <td>0.224684</td>\n",
              "      <td>0.0</td>\n",
              "    </tr>\n",
              "    <tr>\n",
              "      <th>28</th>\n",
              "      <td>residual_sugar</td>\n",
              "      <td>free_sulfur_dioxide</td>\n",
              "      <td>0.226755</td>\n",
              "      <td>0.0</td>\n",
              "    </tr>\n",
              "    <tr>\n",
              "      <th>29</th>\n",
              "      <td>residual_sugar</td>\n",
              "      <td>total_sulfur_dioxide</td>\n",
              "      <td>0.234806</td>\n",
              "      <td>0.0</td>\n",
              "    </tr>\n",
              "    <tr>\n",
              "      <th>25</th>\n",
              "      <td>citric_acid</td>\n",
              "      <td>sulphates</td>\n",
              "      <td>0.322122</td>\n",
              "      <td>0.0</td>\n",
              "    </tr>\n",
              "    <tr>\n",
              "      <th>30</th>\n",
              "      <td>residual_sugar</td>\n",
              "      <td>density</td>\n",
              "      <td>0.334845</td>\n",
              "      <td>0.0</td>\n",
              "    </tr>\n",
              "    <tr>\n",
              "      <th>23</th>\n",
              "      <td>citric_acid</td>\n",
              "      <td>density</td>\n",
              "      <td>0.350206</td>\n",
              "      <td>0.0</td>\n",
              "    </tr>\n",
              "    <tr>\n",
              "      <th>38</th>\n",
              "      <td>chlorides</td>\n",
              "      <td>sulphates</td>\n",
              "      <td>0.393209</td>\n",
              "      <td>0.0</td>\n",
              "    </tr>\n",
              "    <tr>\n",
              "      <th>40</th>\n",
              "      <td>free_sulfur_dioxide</td>\n",
              "      <td>total_sulfur_dioxide</td>\n",
              "      <td>0.660152</td>\n",
              "      <td>0.0</td>\n",
              "    </tr>\n",
              "    <tr>\n",
              "      <th>1</th>\n",
              "      <td>fixed_acidity</td>\n",
              "      <td>citric_acid</td>\n",
              "      <td>0.662050</td>\n",
              "      <td>0.0</td>\n",
              "    </tr>\n",
              "    <tr>\n",
              "      <th>6</th>\n",
              "      <td>fixed_acidity</td>\n",
              "      <td>density</td>\n",
              "      <td>0.666692</td>\n",
              "      <td>0.0</td>\n",
              "    </tr>\n",
              "  </tbody>\n",
              "</table>\n",
              "</div>"
            ],
            "text/plain": [
              "            Показатель_1          Показатель_2  Корреляция  P_значение\n",
              "7          fixed_acidity                    pH   -0.677794         0.0\n",
              "10      volatile_acidity           citric_acid   -0.543001         0.0\n",
              "24           citric_acid                    pH   -0.530855         0.0\n",
              "51               density               alcohol   -0.515113         0.0\n",
              "49               density                    pH   -0.330045         0.0\n",
              "37             chlorides                    pH   -0.280087         0.0\n",
              "17      volatile_acidity             sulphates   -0.257475         0.0\n",
              "0          fixed_acidity      volatile_acidity   -0.246869         0.0\n",
              "39             chlorides               alcohol   -0.238417         0.0\n",
              "52                    pH             sulphates   -0.214411         0.0\n",
              "18      volatile_acidity               alcohol   -0.205998         0.0\n",
              "48  total_sulfur_dioxide               alcohol   -0.202851         0.0\n",
              "4          fixed_acidity   free_sulfur_dioxide   -0.157031         0.0\n",
              "5          fixed_acidity  total_sulfur_dioxide   -0.116256         0.0\n",
              "9          fixed_acidity               alcohol   -0.087286         0.0\n",
              "31        residual_sugar                    pH   -0.070527         0.0\n",
              "44   free_sulfur_dioxide               alcohol   -0.070466         0.0\n",
              "46  total_sulfur_dioxide                    pH   -0.066240         0.0\n",
              "21           citric_acid   free_sulfur_dioxide   -0.057865         0.0\n",
              "41   free_sulfur_dioxide               density   -0.015890         0.0\n",
              "13      volatile_acidity   free_sulfur_dioxide   -0.012871         0.0\n",
              "32        residual_sugar             sulphates   -0.005114         0.0\n",
              "34             chlorides   free_sulfur_dioxide    0.012886         0.0\n",
              "11      volatile_acidity        residual_sugar    0.024199         0.0\n",
              "33        residual_sugar               alcohol    0.035189         0.0\n",
              "47  total_sulfur_dioxide             sulphates    0.036584         0.0\n",
              "43   free_sulfur_dioxide             sulphates    0.037102         0.0\n",
              "22           citric_acid  total_sulfur_dioxide    0.042593         0.0\n",
              "15      volatile_acidity               density    0.044397         0.0\n",
              "35             chlorides  total_sulfur_dioxide    0.047741         0.0\n",
              "12      volatile_acidity             chlorides    0.068127         0.0\n",
              "45  total_sulfur_dioxide               density    0.069330         0.0\n",
              "27        residual_sugar             chlorides    0.070038         0.0\n",
              "42   free_sulfur_dioxide                    pH    0.073817         0.0\n",
              "14      volatile_acidity  total_sulfur_dioxide    0.079849         0.0\n",
              "2          fixed_acidity        residual_sugar    0.089937         0.0\n",
              "54             sulphates               alcohol    0.090389         0.0\n",
              "26           citric_acid               alcohol    0.097778         0.0\n",
              "3          fixed_acidity             chlorides    0.109481         0.0\n",
              "19           citric_acid        residual_sugar    0.130995         0.0\n",
              "50               density             sulphates    0.140350         0.0\n",
              "8          fixed_acidity             sulphates    0.184393         0.0\n",
              "20           citric_acid             chlorides    0.218309         0.0\n",
              "36             chlorides               density    0.219371         0.0\n",
              "53                    pH               alcohol    0.223427         0.0\n",
              "16      volatile_acidity                    pH    0.224684         0.0\n",
              "28        residual_sugar   free_sulfur_dioxide    0.226755         0.0\n",
              "29        residual_sugar  total_sulfur_dioxide    0.234806         0.0\n",
              "25           citric_acid             sulphates    0.322122         0.0\n",
              "30        residual_sugar               density    0.334845         0.0\n",
              "23           citric_acid               density    0.350206         0.0\n",
              "38             chlorides             sulphates    0.393209         0.0\n",
              "40   free_sulfur_dioxide  total_sulfur_dioxide    0.660152         0.0\n",
              "1          fixed_acidity           citric_acid    0.662050         0.0\n",
              "6          fixed_acidity               density    0.666692         0.0"
            ]
          },
          "metadata": {},
          "execution_count": 289
        }
      ]
    },
    {
      "cell_type": "markdown",
      "metadata": {
        "id": "d3a48810"
      },
      "source": [
        "# Методы снижения резмерности  \n",
        "\n",
        "Посмотрим, как работают методы снижения размерности:  \n",
        "\n",
        "* частный метод наименьших квадратов (PLS)\n",
        "\n",
        "Метод требует предварительной стандартизации переменных.  "
      ],
      "id": "d3a48810"
    },
    {
      "cell_type": "code",
      "metadata": {
        "colab": {
          "base_uri": "https://localhost:8080/"
        },
        "id": "688312d9",
        "outputId": "80379872-7551-45c2-f6db-2451f9a7f32f"
      },
      "source": [
        "# стандартизация\n",
        "sc = StandardScaler()\n",
        "X_train_std = sc.fit_transform(DF.iloc[:, :12].values)\n",
        "\n",
        "# проверяем средние и стандартные отклонения после стандартизации\n",
        "for i_col in range(X_train_std.shape[1]) :\n",
        "    print('Столбец ', i_col, ': среднее = ',\n",
        "          np.round(np.mean(X_train_std[:, i_col]), 2),\n",
        "         '   Станд. отклонение = ', \n",
        "          np.round(np.std(X_train_std[:, i_col]), 2), sep='')"
      ],
      "id": "688312d9",
      "execution_count": 290,
      "outputs": [
        {
          "output_type": "stream",
          "name": "stdout",
          "text": [
            "Столбец 0: среднее = 0.0   Станд. отклонение = 1.0\n",
            "Столбец 1: среднее = 0.0   Станд. отклонение = 1.0\n",
            "Столбец 2: среднее = -0.0   Станд. отклонение = 1.0\n",
            "Столбец 3: среднее = -0.0   Станд. отклонение = 1.0\n",
            "Столбец 4: среднее = 0.0   Станд. отклонение = 1.0\n",
            "Столбец 5: среднее = -0.0   Станд. отклонение = 1.0\n",
            "Столбец 6: среднее = 0.0   Станд. отклонение = 1.0\n",
            "Столбец 7: среднее = -0.0   Станд. отклонение = 1.0\n",
            "Столбец 8: среднее = -0.0   Станд. отклонение = 1.0\n",
            "Столбец 9: среднее = 0.0   Станд. отклонение = 1.0\n",
            "Столбец 10: среднее = -0.0   Станд. отклонение = 1.0\n",
            "Столбец 11: среднее = -0.0   Станд. отклонение = 1.0\n"
          ]
        }
      ]
    },
    {
      "cell_type": "markdown",
      "metadata": {
        "id": "G9Ep0bGxgWsC"
      },
      "source": [
        "Распределения столбцов приняли нормальное распределение с мат. ожиданием равным нулю и СКО равным единице."
      ],
      "id": "G9Ep0bGxgWsC"
    },
    {
      "cell_type": "markdown",
      "metadata": {
        "id": "8c555295"
      },
      "source": [
        "## Метод частных наименьших квадратов  \n",
        "\n",
        "Сначала посмотрим, как работает метод на всех наблюдениях обучающего набора.  "
      ],
      "id": "8c555295"
    },
    {
      "cell_type": "code",
      "metadata": {
        "colab": {
          "base_uri": "https://localhost:8080/"
        },
        "id": "0f3b638f",
        "outputId": "56dd7d7e-56e5-4696-e52e-64a0768a07f7"
      },
      "source": [
        "# функция для оценки модели, берём все компоненты, по числу столбцов X\n",
        "pls = PLSRegression(n_components=12)\n",
        "# значения зависимой переменной превращаем в фиктивные по классам\n",
        "Y_train = pd.get_dummies(DF.Y.astype(str))\n",
        "# оцениваем\n",
        "pls.fit(X_train_std, Y_train)\n",
        "\n",
        "# считаем долю объяснённой дисперсии\n",
        "frac_var_expl = np.var(pls.x_scores_, axis=0) / np.sum(np.var(X_train_std, axis=0))\n",
        "print('Доли объяснённой дисперсии по компонентам в PLS:\\n',\n",
        "     np.around(frac_var_expl, 3),\n",
        "     '\\nОбщая сумма долей:', np.around(sum(frac_var_expl), 3))"
      ],
      "id": "0f3b638f",
      "execution_count": 291,
      "outputs": [
        {
          "output_type": "stream",
          "name": "stdout",
          "text": [
            "Доли объяснённой дисперсии по компонентам в PLS:\n",
            " [0.158 0.076 0.172 0.117 0.068 0.049 0.048 0.063 0.024 0.044 0.033 0.006] \n",
            "Общая сумма долей: 0.859\n"
          ]
        }
      ]
    },
    {
      "cell_type": "markdown",
      "metadata": {
        "id": "d5753d89"
      },
      "source": [
        "Из-за того, что при вычислении компонент метдом PLS мы учитываем корреляцию с $Y$, компоненты, во-первых, не ортогональны, а во-вторых сумма объяснённых долей дисперсии уже не равняется 1.  "
      ],
      "id": "d5753d89"
    },
    {
      "cell_type": "code",
      "metadata": {
        "colab": {
          "base_uri": "https://localhost:8080/",
          "height": 419
        },
        "id": "f4e6c748",
        "outputId": "53761096-0258-432c-f310-2da5178260c3"
      },
      "source": [
        "# сокращаем пространство компонент до 2\n",
        "pls = PLSRegression(n_components=2)\n",
        "# перестраиваем модель\n",
        "pls.fit(X_train_std, Y_train)\n",
        "# пересчитываем X\n",
        "X_train_pls = pls.transform(X_train_std)\n",
        "# предсказываем принадлежности классов для обучающего набора\n",
        "Y_train_pred = pls.predict(X_train_std)\n",
        "pd.DataFrame(Y_train_pred)"
      ],
      "id": "f4e6c748",
      "execution_count": 292,
      "outputs": [
        {
          "output_type": "execute_result",
          "data": {
            "text/html": [
              "<div>\n",
              "<style scoped>\n",
              "    .dataframe tbody tr th:only-of-type {\n",
              "        vertical-align: middle;\n",
              "    }\n",
              "\n",
              "    .dataframe tbody tr th {\n",
              "        vertical-align: top;\n",
              "    }\n",
              "\n",
              "    .dataframe thead th {\n",
              "        text-align: right;\n",
              "    }\n",
              "</style>\n",
              "<table border=\"1\" class=\"dataframe\">\n",
              "  <thead>\n",
              "    <tr style=\"text-align: right;\">\n",
              "      <th></th>\n",
              "      <th>0</th>\n",
              "      <th>1</th>\n",
              "    </tr>\n",
              "  </thead>\n",
              "  <tbody>\n",
              "    <tr>\n",
              "      <th>0</th>\n",
              "      <td>0.993345</td>\n",
              "      <td>0.006655</td>\n",
              "    </tr>\n",
              "    <tr>\n",
              "      <th>1</th>\n",
              "      <td>1.012874</td>\n",
              "      <td>-0.012874</td>\n",
              "    </tr>\n",
              "    <tr>\n",
              "      <th>2</th>\n",
              "      <td>0.318292</td>\n",
              "      <td>0.681708</td>\n",
              "    </tr>\n",
              "    <tr>\n",
              "      <th>3</th>\n",
              "      <td>0.026559</td>\n",
              "      <td>0.973441</td>\n",
              "    </tr>\n",
              "    <tr>\n",
              "      <th>4</th>\n",
              "      <td>1.069490</td>\n",
              "      <td>-0.069490</td>\n",
              "    </tr>\n",
              "    <tr>\n",
              "      <th>...</th>\n",
              "      <td>...</td>\n",
              "      <td>...</td>\n",
              "    </tr>\n",
              "    <tr>\n",
              "      <th>1354</th>\n",
              "      <td>0.008863</td>\n",
              "      <td>0.991137</td>\n",
              "    </tr>\n",
              "    <tr>\n",
              "      <th>1355</th>\n",
              "      <td>-0.261667</td>\n",
              "      <td>1.261667</td>\n",
              "    </tr>\n",
              "    <tr>\n",
              "      <th>1356</th>\n",
              "      <td>0.937632</td>\n",
              "      <td>0.062368</td>\n",
              "    </tr>\n",
              "    <tr>\n",
              "      <th>1357</th>\n",
              "      <td>-0.005517</td>\n",
              "      <td>1.005517</td>\n",
              "    </tr>\n",
              "    <tr>\n",
              "      <th>1358</th>\n",
              "      <td>0.026559</td>\n",
              "      <td>0.973441</td>\n",
              "    </tr>\n",
              "  </tbody>\n",
              "</table>\n",
              "<p>1359 rows × 2 columns</p>\n",
              "</div>"
            ],
            "text/plain": [
              "             0         1\n",
              "0     0.993345  0.006655\n",
              "1     1.012874 -0.012874\n",
              "2     0.318292  0.681708\n",
              "3     0.026559  0.973441\n",
              "4     1.069490 -0.069490\n",
              "...        ...       ...\n",
              "1354  0.008863  0.991137\n",
              "1355 -0.261667  1.261667\n",
              "1356  0.937632  0.062368\n",
              "1357 -0.005517  1.005517\n",
              "1358  0.026559  0.973441\n",
              "\n",
              "[1359 rows x 2 columns]"
            ]
          },
          "metadata": {},
          "execution_count": 292
        }
      ]
    },
    {
      "cell_type": "code",
      "metadata": {
        "colab": {
          "base_uri": "https://localhost:8080/"
        },
        "id": "2ee36387",
        "outputId": "5a8cb40f-ae4a-4712-c78d-58ac98fe5b07"
      },
      "source": [
        "# вычисляем классы\n",
        "Y_train_hat = list()\n",
        "for y_i in Y_train_pred : \n",
        "    Y_train_hat.append([i for i in range(len(y_i)) if y_i[i] == max(y_i)][0])\n",
        "# Y_train_hat\n",
        "# сколько наблюдений попали в каждый класс по модели\n",
        "Counter(Y_train_hat).items()"
      ],
      "id": "2ee36387",
      "execution_count": 293,
      "outputs": [
        {
          "output_type": "execute_result",
          "data": {
            "text/plain": [
              "dict_items([(0, 646), (1, 713)])"
            ]
          },
          "metadata": {},
          "execution_count": 293
        }
      ]
    },
    {
      "cell_type": "markdown",
      "metadata": {
        "id": "3cd7c05e"
      },
      "source": [
        "Рисуем классы на графике в координатах 2 главных компонент по PLS.  "
      ],
      "id": "3cd7c05e"
    },
    {
      "cell_type": "code",
      "metadata": {
        "colab": {
          "base_uri": "https://localhost:8080/",
          "height": 276
        },
        "id": "cf167983",
        "outputId": "72fc359f-d63b-4f12-d149-2e206709d5a5"
      },
      "source": [
        "# график классов в пространстве ГК\n",
        "plt.scatter(X_train_pls[DF['Y'] == 0][:, 0], \n",
        "            X_train_pls[DF['Y'] == 0][:, 1], label='Y: 0')\n",
        "plt.scatter(X_train_pls[DF['Y'] == 1][:, 0], \n",
        "            X_train_pls[DF['Y'] == 1][:, 1], label='Y: 1')\n",
        "plt.xlabel('ГК 1 по PLS')\n",
        "plt.ylabel('ГК 2 по PLS')\n",
        "plt.legend()\n",
        "plt.show()"
      ],
      "id": "cf167983",
      "execution_count": 294,
      "outputs": [
        {
          "output_type": "display_data",
          "data": {
            "image/png": "[encoded data removed]",
            "text/plain": [
              "<Figure size 432x288 with 1 Axes>"
            ]
          },
          "metadata": {}
        }
      ]
    },
    {
      "cell_type": "markdown",
      "metadata": {
        "id": "1360f1b8"
      },
      "source": [
        "Видно, что в координатах двух компонент, рассчитанных методом частных наименьших квадратов, классы также оказываются хорошо разделимы.  \n",
        "Теперь оценим точность модели с перекрёстной проверкой.  "
      ],
      "id": "1360f1b8"
    },
    {
      "cell_type": "code",
      "metadata": {
        "colab": {
          "base_uri": "https://localhost:8080/"
        },
        "id": "2a7f9f6f",
        "outputId": "fb9552c5-3046-413c-aeb8-19552780ce0b"
      },
      "source": [
        "# функция разбиения на блоки для перекрёстной проверки\n",
        "#  для чистоты эксперимента возьмём другое ядро генератора случайных чисел\n",
        "kf_10 = KFold(n_splits=10, random_state=my_seed+1, shuffle=True)\n",
        "# считаем точность модели (Acc) с перекрёстной проверкой по блокам\n",
        "#  функция cross_val_score не сработает, т.к. у нас мультиклассовая\n",
        "#  классификация, поэтому делаем вручную\n",
        "# значения Y как метки классов\n",
        "Y_train = DF.Y.values\n",
        "# значения Y как фиктивные переменные\n",
        "Y_train_dummy = pd.get_dummies(Y_train.astype(str))\n",
        "# модель внутри блока\n",
        "pls_cv = PLSRegression(n_components=2)\n",
        "# для записи Acc по блокам\n",
        "acc_blocks = list()\n",
        "# цикл по блокам\n",
        "for train_index, test_index in kf_10.split(X_train_std, DF.Y.values) : \n",
        "    # данные для модели внутри блока\n",
        "    X_i_train = X_train_std[train_index]\n",
        "    Y_i_train = Y_train_dummy.iloc[train_index, :]\n",
        "\n",
        "    # данные для прогноза вне блока\n",
        "    X_i_test = X_train_std[test_index]\n",
        "    Y_i_test = Y_train[test_index]\n",
        "\n",
        "    # оцениваем модель на блоке\n",
        "    pls_cv.fit(X_i_train, Y_i_train)\n",
        "    # делаем прогноз y вне блока\n",
        "    Y_pred = pls.predict(X_i_test)\n",
        "    Y_hat = list()\n",
        "    for y_i in Y_pred : \n",
        "        Y_hat.append([i for i in range(len(y_i)) if y_i[i] == max(y_i)][0])\n",
        "    # считаем точность\n",
        "    acc = accuracy_score(Y_i_test, Y_hat)\n",
        "    acc_blocks.append(acc)\n",
        "\n",
        "score = list();\n",
        "score_models = list();\n",
        "score.append(np.around(np.mean(acc_blocks), 3))\n",
        "score_models.append('logit_PLS')\n",
        "print('Модель ', score_models[0], ', перекрёстная проверка по 10 блокам',\n",
        "      '\\nAcc = ', np.around(score[0], 2), sep='')"
      ],
      "id": "2a7f9f6f",
      "execution_count": 295,
      "outputs": [
        {
          "output_type": "stream",
          "name": "stdout",
          "text": [
            "Модель logit_PLS, перекрёстная проверка по 10 блокам\n",
            "Acc = 1.0\n"
          ]
        }
      ]
    },
    {
      "cell_type": "code",
      "metadata": {
        "id": "muDvFlOFyGYE"
      },
      "source": [
        ""
      ],
      "id": "muDvFlOFyGYE",
      "execution_count": 295,
      "outputs": []
    },
    {
      "cell_type": "markdown",
      "metadata": {
        "id": "5d46e811"
      },
      "source": [
        "# Методы сжатия  \n"
      ],
      "id": "5d46e811"
    },
    {
      "cell_type": "markdown",
      "metadata": {
        "id": "09a02626"
      },
      "source": [
        "## Лассо-регрессия\n",
        "\n",
        "Технически реализация лассо-регрессии отличается от ридж единственным аргументом `penalty='l2'` в функции `LogisticRegression`.    "
      ],
      "id": "09a02626"
    },
    {
      "cell_type": "code",
      "metadata": {
        "colab": {
          "base_uri": "https://localhost:8080/"
        },
        "id": "bf20f8ec",
        "outputId": "180774d6-90b4-4f1e-a92f-1432a136816a"
      },
      "source": [
        "# функция для построения модели\n",
        "logit_lasso = LogisticRegression(penalty='l2', solver='liblinear')\n",
        "# оцениваем параметры\n",
        "logit_lasso.fit(X_train_std, Y_train)\n",
        "# выводим параметры\n",
        "print('Константы моделей для классов:\\n', np.around(logit_lasso.intercept_, 3),\n",
        "     '\\nКоэффициенты моделей для классов:\\n', np.around(logit_lasso.coef_, 3))"
      ],
      "id": "bf20f8ec",
      "execution_count": 296,
      "outputs": [
        {
          "output_type": "stream",
          "name": "stdout",
          "text": [
            "Константы моделей для классов:\n",
            " [0.302] \n",
            "Коэффициенты моделей для классов:\n",
            " [[ 9.200e-02 -2.440e-01 -2.400e-02  4.900e-02 -8.000e-02  4.300e-02\n",
            "  -2.060e-01 -8.200e-02 -4.000e-03  1.910e-01  3.640e-01  5.324e+00]]\n"
          ]
        }
      ]
    },
    {
      "cell_type": "markdown",
      "metadata": {
        "id": "3bd8cfb4"
      },
      "source": [
        "Отметим, что в векторе коэффициентов появились нулевые значения: метод лассо позволяет обнулять коэффициенты, тем самым отбрасывая слабые объясняющие переменные.  "
      ],
      "id": "3bd8cfb4"
    },
    {
      "cell_type": "code",
      "metadata": {
        "colab": {
          "base_uri": "https://localhost:8080/"
        },
        "id": "92a80a3b",
        "outputId": "c49b5e28-5e78-4727-a16b-7caed09fdbc4"
      },
      "source": [
        "# поиск оптимального значения C:\n",
        "#  подбираем C по наибольшей точности с перекрёстной проверкой\n",
        "lasso_cv = LogisticRegressionCV(cv=10, random_state=my_seed+3,\n",
        "                               penalty='l2', solver='liblinear')\n",
        "lasso_cv.fit(X_train_std, Y_train)\n",
        "# значения параметра C (инверсия лямбды), которые дают наилучшую\n",
        "#  точность для каждого класса\n",
        "lasso_cv.C_"
      ],
      "id": "92a80a3b",
      "execution_count": 297,
      "outputs": [
        {
          "output_type": "execute_result",
          "data": {
            "text/plain": [
              "array([0.00599484])"
            ]
          },
          "metadata": {},
          "execution_count": 297
        }
      ]
    },
    {
      "cell_type": "code",
      "metadata": {
        "colab": {
          "base_uri": "https://localhost:8080/"
        },
        "id": "6ae71683",
        "outputId": "dd756785-35e4-4dba-fe14-233091dae6ef"
      },
      "source": [
        "# сохраняем и выводим Acc для модели\n",
        "score.append(np.around(lasso_cv.score(X_train_std, Y_train), 3))\n",
        "score_models.append('logit_lasso')\n",
        "print('Модель ', score_models[1], ', перекрёстная проверка по 10 блокам',\n",
        "      '\\nAcc = ', score[1], sep='')"
      ],
      "id": "6ae71683",
      "execution_count": 298,
      "outputs": [
        {
          "output_type": "stream",
          "name": "stdout",
          "text": [
            "Модель logit_lasso, перекрёстная проверка по 10 блокам\n",
            "Acc = 1.0\n"
          ]
        }
      ]
    },
    {
      "cell_type": "code",
      "metadata": {
        "colab": {
          "base_uri": "https://localhost:8080/",
          "height": 281
        },
        "id": "c15ed701",
        "outputId": "fdf2e828-c4ab-491e-9ce1-3bd60999dcb2"
      },
      "source": [
        "# график динамики коэффициентов в лассо-регрессии    \n",
        "#  модель для класса 0\n",
        "plot_coeffs_traces(X_train_std, Y_train, 0, 'l2', lasso_cv.C_, DF.columns)"
      ],
      "id": "c15ed701",
      "execution_count": 299,
      "outputs": [
        {
          "output_type": "display_data",
          "data": {
            "image/png": "[encoded data removed]",
            "text/plain": [
              "<Figure size 432x288 with 1 Axes>"
            ]
          },
          "metadata": {}
        }
      ]
    },
    {
      "cell_type": "markdown",
      "metadata": {
        "id": "041010d5"
      },
      "source": [
        "Итак, судя по графикам, для значения гиперпараметра, дающего самую точную модель, ни один коэффициент при объясняющих переменных не обнуляется.\n",
        "\n",
        "\n",
        "# Прогноз на отложенные наблюдения по лучшей модели\n",
        "\n",
        "Ещё раз посмотрим на точность построенных моделей.  "
      ],
      "id": "041010d5"
    },
    {
      "cell_type": "code",
      "metadata": {
        "colab": {
          "base_uri": "https://localhost:8080/"
        },
        "id": "q41CylAEwbcW",
        "outputId": "6d7dc151-8ab2-4928-f98a-4d80316f846f"
      },
      "source": [
        "print(score_models)"
      ],
      "id": "q41CylAEwbcW",
      "execution_count": 300,
      "outputs": [
        {
          "output_type": "stream",
          "name": "stdout",
          "text": [
            "['logit_PLS', 'logit_lasso']\n"
          ]
        }
      ]
    },
    {
      "cell_type": "code",
      "metadata": {
        "colab": {
          "base_uri": "https://localhost:8080/",
          "height": 111
        },
        "id": "13f506f8",
        "outputId": "459f3612-0bdd-4c95-f29f-94537ab8bad8"
      },
      "source": [
        "# сводка по точности моделей\n",
        "pd.DataFrame({'Модель' : score_models, 'Acc' : score})"
      ],
      "id": "13f506f8",
      "execution_count": 301,
      "outputs": [
        {
          "output_type": "execute_result",
          "data": {
            "text/html": [
              "<div>\n",
              "<style scoped>\n",
              "    .dataframe tbody tr th:only-of-type {\n",
              "        vertical-align: middle;\n",
              "    }\n",
              "\n",
              "    .dataframe tbody tr th {\n",
              "        vertical-align: top;\n",
              "    }\n",
              "\n",
              "    .dataframe thead th {\n",
              "        text-align: right;\n",
              "    }\n",
              "</style>\n",
              "<table border=\"1\" class=\"dataframe\">\n",
              "  <thead>\n",
              "    <tr style=\"text-align: right;\">\n",
              "      <th></th>\n",
              "      <th>Модель</th>\n",
              "      <th>Acc</th>\n",
              "    </tr>\n",
              "  </thead>\n",
              "  <tbody>\n",
              "    <tr>\n",
              "      <th>0</th>\n",
              "      <td>logit_PLS</td>\n",
              "      <td>1.0</td>\n",
              "    </tr>\n",
              "    <tr>\n",
              "      <th>1</th>\n",
              "      <td>logit_lasso</td>\n",
              "      <td>1.0</td>\n",
              "    </tr>\n",
              "  </tbody>\n",
              "</table>\n",
              "</div>"
            ],
            "text/plain": [
              "        Модель  Acc\n",
              "0    logit_PLS  1.0\n",
              "1  logit_lasso  1.0"
            ]
          },
          "metadata": {},
          "execution_count": 301
        }
      ]
    },
    {
      "cell_type": "markdown",
      "metadata": {
        "id": "99c7c905"
      },
      "source": [
        "Все модели показывают высокую точность по показателю $Acc$, при этом самой точной оказывается ридж-регрессия. Сделаем прогноз на отложенные наблюдения.   "
      ],
      "id": "99c7c905"
    },
    {
      "cell_type": "code",
      "metadata": {
        "colab": {
          "base_uri": "https://localhost:8080/"
        },
        "id": "6f19fd52",
        "outputId": "e6da1021-4ca8-469d-9c88-ba4d2d5609e5"
      },
      "source": [
        "# формируем объекты с данными отложенной выборки\n",
        "X_pred_std = sc.fit_transform(DF_predict.iloc[:, :13].values)\n",
        "Y_pred = DF_predict.Y\n",
        "Y_hat = logit_ridge.predict(X_pred_std)\n",
        "# отчёт по точности на отложенных наблюдениях\n",
        "print(classification_report(Y_pred, Y_hat))"
      ],
      "id": "6f19fd52",
      "execution_count": 302,
      "outputs": [
        {
          "output_type": "stream",
          "name": "stdout",
          "text": [
            "              precision    recall  f1-score   support\n",
            "\n",
            "           0       1.00      1.00      1.00        98\n",
            "           1       1.00      1.00      1.00       142\n",
            "\n",
            "    accuracy                           1.00       240\n",
            "   macro avg       1.00      1.00      1.00       240\n",
            "weighted avg       1.00      1.00      1.00       240\n",
            "\n"
          ]
        }
      ]
    },
    {
      "cell_type": "markdown",
      "metadata": {
        "id": "15e4aa0a"
      },
      "source": [
        "Итак, методом логистической регрессии со сжатием коэффициенты с L2-регуляризацией мы получили идеально точную модель классификации двух видов красных вин.  "
      ],
      "id": "15e4aa0a"
    },
    {
      "cell_type": "markdown",
      "metadata": {
        "id": "af39298f"
      },
      "source": [
        "# Источники \n",
        "\n",
        "1. *Рашка С.* Python и машинное обучение: крайне необходимое пособие по новейшей предсказательной аналитике, обязательное для более глубокого понимания методологии машинного обучения / пер. с англ. А.В. Логунова. – М.: ДМК Пресс, 2017. – 418 с.: ил.  \n",
        "1. Репозиторий с кодом к книге *Рашка С.* Python и машинное обучение / github.com. URL: <https://github.com/rasbt/python-machine-learning-book-3rd-edition>  \n",
        "1. *Xueting Bai*, *Lingbo Wang*, *Hanning Li* Identification of red wine categories based on physicochemical properties / 2019 5th International Conference on Education Technology, Management and Humanities Science (ETMHS 2019). URL: <https://webofproceedings.org/proceedings_series/ESSP/ETMHS%202019/ETMHS19309.pdf>  \n",
        "\n"
      ],
      "id": "af39298f"
    }
  ]
}