{
  "nbformat": 4,
  "nbformat_minor": 0,
  "metadata": {
    "colab": {
      "name": "Untitled2.ipynb",
      "provenance": []
    },
    "kernelspec": {
      "name": "python3",
      "display_name": "Python 3"
    },
    "language_info": {
      "name": "python"
    }
  },
  "cells": [
    {
      "cell_type": "markdown",
      "metadata": {
        "id": "YDhkd2BMCCrs"
      },
      "source": [
        "`Дисциплина: Методы и технологии машинного обучения` <br>\n",
        "`Уровень подготовки: бакалавриат`<br>\n",
        "`Направление подготовки: 01.03.02 Прикладная математика и информатика`<br>\n",
        "`Семестр: осень 2021/2022` <br>\n",
        "# Лабораторная работа №6: Машины опорных векторов.\n",
        "\n",
        "Кечин Дмитрий, 10 вариант.\n",
        "\n",
        "\n",
        "\n",
        "1.  В практических примерах ниже показано:\n",
        "2.  Как использовать конвейеры для подгонки модели и применения её к новым данным\n",
        "\n",
        "Точность всех моделей оценивается методом перекрёстной проверки по 5 блокам.\n"
      ]
    },
    {
      "cell_type": "markdown",
      "metadata": {
        "id": "trAADcUZC-Bw"
      },
      "source": [
        "## Данные\n",
        "\n",
        "\n",
        "\n",
        "1.   `fixed_acidity` – постоянная кислотность;\n",
        "2.   `volatile_acidity` – переменная кислотность;\n",
        "3.   `citric_acid` – содержание лимонной кислоты;\n",
        "4.   `residual_sugar` - остаточный сахар;\n",
        "5.   `chlorides` – содержание хлоридов;\n",
        "6.   `free_sulfur_dioxide` – содержание диоксида серы в свободном виде;\n",
        "7.   `total_sulfur_dioxide` – общее содержание диоксида серы;\n",
        "8.   `density` – плотность;\n",
        "9.   `pH` – кислотность;\n",
        "10.  `sulphates` – содержание сульфатов;\n",
        "11.  `alcohol` – содержание алкоголя;\n",
        "12.  `quality` – балльная оценка качества вина, от 0 до 10;\n",
        "13.  `Y` – целевая переменная: 1 = высокое качество (quality > 5), 0 = низкое (quality <= 5)."
      ]
    },
    {
      "cell_type": "markdown",
      "metadata": {
        "id": "CeUjxPj7DFER"
      },
      "source": [
        "# Загружаем пакеты"
      ]
    },
    {
      "cell_type": "code",
      "metadata": {
        "id": "NV3gXY4UDGSC"
      },
      "source": [
        "# загрузка пакетов: инструменты --------------------------------------------\n",
        "#  работа с массивами\n",
        "import numpy as np\n",
        "#  фреймы данных\n",
        "import pandas as pd\n",
        "#  графики\n",
        "import matplotlib as mpl\n",
        "#  стили и шаблоны графиков на основе matplotlib\n",
        "import seaborn as sns\n",
        "# перекодировка символьных показателей\n",
        "from sklearn.preprocessing import LabelEncoder\n",
        "# загрузка файлов по URL\n",
        "import urllib\n",
        "# проверка существования файла на диске\n",
        "from pathlib import Path\n",
        "# для форматирования результатов с помощью Markdown\n",
        "from IPython.display import Markdown, display\n",
        "# перекодировка категориальных переменных\n",
        "from sklearn.preprocessing import OrdinalEncoder, OneHotEncoder\n",
        "# хи-квадрат тест на независимость по таблице сопряжённости\n",
        "from scipy.stats import chi2_contingency, t\n",
        "#  для таймера\n",
        "import time\n",
        "\n",
        "# загрузка пакетов: модели ------------------------------------------------- \n",
        "# SVM\n",
        "from sklearn.svm import SVC\n",
        "# логистическая рагрессия\n",
        "from sklearn.linear_model import LogisticRegression \n",
        "# стандартизация\n",
        "from sklearn.preprocessing import StandardScaler\n",
        "# метод главных компонент\n",
        "from sklearn.decomposition import PCA\n",
        "# конвейеры\n",
        "from sklearn.pipeline import make_pipeline\n",
        "# перекрёстная проверка и метод проверочной выборки\n",
        "from sklearn.model_selection import cross_val_score, train_test_split \n",
        "# для перекрёстной проверки и сеточного поиска\n",
        "from sklearn.model_selection import KFold, GridSearchCV\n",
        "# сводка по точности классификации\n",
        "from sklearn.metrics import classification_report\n",
        "\n",
        "# загрузка пакетов: данные -------------------------------------------------\n",
        "from sklearn import datasets\n",
        "\n",
        "# загрузка пакетов: модели -------------------------------------------------\n",
        "#  дерево классификации\n",
        "from sklearn.tree import DecisionTreeClassifier, export_text, plot_tree\n",
        "\n",
        "\n",
        "# бэггинг\n",
        "from sklearn.ensemble import BaggingClassifier\n",
        "# случайный лес\n",
        "from sklearn.ensemble import RandomForestClassifier\n",
        "# бустинг\n",
        "from sklearn.ensemble import GradientBoostingClassifier\n",
        "\n",
        "# для теста хи-квадрат\n",
        "import scipy"
      ],
      "execution_count": 58,
      "outputs": []
    },
    {
      "cell_type": "code",
      "metadata": {
        "id": "evT7kePvB_LT"
      },
      "source": [
        "# константы\n",
        "#  ядро для генератора случайных чисел\n",
        "my_seed = 10\n",
        "#  создаём псевдоним для короткого обращения к графикам\n",
        "plt = mpl.pyplot\n",
        "# настройка стиля и отображения графиков\n",
        "#  примеры стилей и шаблонов графиков: \n",
        "#  http://tonysyu.github.io/raw_content/matplotlib-style-gallery/gallery.html\n",
        "mpl.style.use('seaborn-whitegrid')\n",
        "sns.set_palette(\"Set2\")\n",
        "# раскомментируйте следующую строку, чтобы посмотреть палитру\n",
        "# sns.color_palette(\"Set2\")"
      ],
      "execution_count": 59,
      "outputs": []
    },
    {
      "cell_type": "code",
      "metadata": {
        "id": "DyUHpi0qDPOQ"
      },
      "source": [
        "# функция форматирования результатов с использованием Markdown\n",
        "def printmd(string):\n",
        "    display(Markdown(string))\n",
        "    \n",
        "# функции для попарной конкатенации элементов двух списков\n",
        "concat_func_md = lambda x, y: '`' + str(x) + \"`:&ensp;&ensp;&ensp;&ensp;\" + str(y)\n",
        "concat_func = lambda x, y: str(x) + ' ' * 4 + str(y)\n",
        "\n",
        "\n",
        "# функция, которая строит график важности признаков в модели случайного леса\n",
        "#  источник: https://www.analyseup.com/learn-python-for-data-science/python-random-forest-feature-importance-plot.html\n",
        "def plot_feature_importance(importance, names, model_type) :\n",
        "    #Create arrays from feature importance and feature names\n",
        "    feature_importance = np.array(importance)\n",
        "    feature_names = np.array(names)\n",
        "\n",
        "    #Create a DataFrame using a Dictionary\n",
        "    data={'feature_names':feature_names,'feature_importance':feature_importance}\n",
        "    fi_df = pd.DataFrame(data)\n",
        "\n",
        "    #Sort the DataFrame in order decreasing feature importance\n",
        "    fi_df.sort_values(by=['feature_importance'], ascending=False,\n",
        "                      inplace=True)\n",
        "\n",
        "    #Define size of bar plot\n",
        "    plt.figure(figsize=(10,8))\n",
        "    #Plot Searborn bar chart\n",
        "    sns.barplot(x=fi_df['feature_importance'], y=fi_df['feature_names'])\n",
        "    #Add chart labels\n",
        "    plt.title('Важность признаков в модели: ' + model_type)\n",
        "    plt.xlabel('Важность признака')\n",
        "    plt.ylabel('')"
      ],
      "execution_count": 60,
      "outputs": []
    },
    {
      "cell_type": "code",
      "metadata": {
        "colab": {
          "base_uri": "https://localhost:8080/"
        },
        "id": "_BYiXA_ZDWAW",
        "outputId": "713ad19f-7eac-4f63-f02a-1791c88195ac"
      },
      "source": [
        "# загружаем таблицу и превращаем её во фрейм\n",
        "DF_raw = pd.read_csv('https://raw.githubusercontent.com/aksyuk/MTML/main/Labs/data/winequality-red_for_lab.csv')\n",
        "\n",
        "# выясняем размерность фрейма\n",
        "print('Число строк и столбцов в наборе данных:\\n', DF_raw.shape)"
      ],
      "execution_count": 61,
      "outputs": [
        {
          "output_type": "stream",
          "name": "stdout",
          "text": [
            "Число строк и столбцов в наборе данных:\n",
            " (1599, 13)\n"
          ]
        }
      ]
    },
    {
      "cell_type": "code",
      "metadata": {
        "colab": {
          "base_uri": "https://localhost:8080/",
          "height": 206
        },
        "id": "qnQdM-AiDaXW",
        "outputId": "86d58066-df4b-4bb7-fff0-161fa6299a65"
      },
      "source": [
        "DF_raw.iloc[:].head(5)"
      ],
      "execution_count": 62,
      "outputs": [
        {
          "output_type": "execute_result",
          "data": {
            "text/html": [
              "<div>\n",
              "<style scoped>\n",
              "    .dataframe tbody tr th:only-of-type {\n",
              "        vertical-align: middle;\n",
              "    }\n",
              "\n",
              "    .dataframe tbody tr th {\n",
              "        vertical-align: top;\n",
              "    }\n",
              "\n",
              "    .dataframe thead th {\n",
              "        text-align: right;\n",
              "    }\n",
              "</style>\n",
              "<table border=\"1\" class=\"dataframe\">\n",
              "  <thead>\n",
              "    <tr style=\"text-align: right;\">\n",
              "      <th></th>\n",
              "      <th>fixed_acidity</th>\n",
              "      <th>volatile_acidity</th>\n",
              "      <th>citric_acid</th>\n",
              "      <th>residual_sugar</th>\n",
              "      <th>chlorides</th>\n",
              "      <th>free_sulfur_dioxide</th>\n",
              "      <th>total_sulfur_dioxide</th>\n",
              "      <th>density</th>\n",
              "      <th>pH</th>\n",
              "      <th>sulphates</th>\n",
              "      <th>alcohol</th>\n",
              "      <th>quality</th>\n",
              "      <th>Y</th>\n",
              "    </tr>\n",
              "  </thead>\n",
              "  <tbody>\n",
              "    <tr>\n",
              "      <th>0</th>\n",
              "      <td>7.4</td>\n",
              "      <td>0.70</td>\n",
              "      <td>0.00</td>\n",
              "      <td>1.9</td>\n",
              "      <td>0.076</td>\n",
              "      <td>11.0</td>\n",
              "      <td>34.0</td>\n",
              "      <td>0.9978</td>\n",
              "      <td>3.51</td>\n",
              "      <td>0.56</td>\n",
              "      <td>9.4</td>\n",
              "      <td>5</td>\n",
              "      <td>0</td>\n",
              "    </tr>\n",
              "    <tr>\n",
              "      <th>1</th>\n",
              "      <td>7.8</td>\n",
              "      <td>0.88</td>\n",
              "      <td>0.00</td>\n",
              "      <td>2.6</td>\n",
              "      <td>0.098</td>\n",
              "      <td>25.0</td>\n",
              "      <td>67.0</td>\n",
              "      <td>0.9968</td>\n",
              "      <td>3.20</td>\n",
              "      <td>0.68</td>\n",
              "      <td>9.8</td>\n",
              "      <td>5</td>\n",
              "      <td>0</td>\n",
              "    </tr>\n",
              "    <tr>\n",
              "      <th>2</th>\n",
              "      <td>7.8</td>\n",
              "      <td>0.76</td>\n",
              "      <td>0.04</td>\n",
              "      <td>2.3</td>\n",
              "      <td>0.092</td>\n",
              "      <td>15.0</td>\n",
              "      <td>54.0</td>\n",
              "      <td>0.9970</td>\n",
              "      <td>3.26</td>\n",
              "      <td>0.65</td>\n",
              "      <td>9.8</td>\n",
              "      <td>5</td>\n",
              "      <td>0</td>\n",
              "    </tr>\n",
              "    <tr>\n",
              "      <th>3</th>\n",
              "      <td>11.2</td>\n",
              "      <td>0.28</td>\n",
              "      <td>0.56</td>\n",
              "      <td>1.9</td>\n",
              "      <td>0.075</td>\n",
              "      <td>17.0</td>\n",
              "      <td>60.0</td>\n",
              "      <td>0.9980</td>\n",
              "      <td>3.16</td>\n",
              "      <td>0.58</td>\n",
              "      <td>9.8</td>\n",
              "      <td>6</td>\n",
              "      <td>1</td>\n",
              "    </tr>\n",
              "    <tr>\n",
              "      <th>4</th>\n",
              "      <td>7.4</td>\n",
              "      <td>0.70</td>\n",
              "      <td>0.00</td>\n",
              "      <td>1.9</td>\n",
              "      <td>0.076</td>\n",
              "      <td>11.0</td>\n",
              "      <td>34.0</td>\n",
              "      <td>0.9978</td>\n",
              "      <td>3.51</td>\n",
              "      <td>0.56</td>\n",
              "      <td>9.4</td>\n",
              "      <td>5</td>\n",
              "      <td>0</td>\n",
              "    </tr>\n",
              "  </tbody>\n",
              "</table>\n",
              "</div>"
            ],
            "text/plain": [
              "   fixed_acidity  volatile_acidity  citric_acid  ...  alcohol  quality  Y\n",
              "0            7.4              0.70         0.00  ...      9.4        5  0\n",
              "1            7.8              0.88         0.00  ...      9.8        5  0\n",
              "2            7.8              0.76         0.04  ...      9.8        5  0\n",
              "3           11.2              0.28         0.56  ...      9.8        6  1\n",
              "4            7.4              0.70         0.00  ...      9.4        5  0\n",
              "\n",
              "[5 rows x 13 columns]"
            ]
          },
          "metadata": {},
          "execution_count": 62
        }
      ]
    },
    {
      "cell_type": "code",
      "metadata": {
        "id": "mRqDTQREMUvz"
      },
      "source": [
        "DF_raw = DF_raw.drop([\"quality\"], axis = 1)"
      ],
      "execution_count": 63,
      "outputs": []
    },
    {
      "cell_type": "code",
      "metadata": {
        "colab": {
          "base_uri": "https://localhost:8080/"
        },
        "id": "MInQ5ClHDeP4",
        "outputId": "86d11964-f5ca-4c81-b649-90e608a34717"
      },
      "source": [
        "# типы столбцов\n",
        "DF_raw.dtypes"
      ],
      "execution_count": 64,
      "outputs": [
        {
          "output_type": "execute_result",
          "data": {
            "text/plain": [
              "fixed_acidity           float64\n",
              "volatile_acidity        float64\n",
              "citric_acid             float64\n",
              "residual_sugar          float64\n",
              "chlorides               float64\n",
              "free_sulfur_dioxide     float64\n",
              "total_sulfur_dioxide    float64\n",
              "density                 float64\n",
              "pH                      float64\n",
              "sulphates               float64\n",
              "alcohol                 float64\n",
              "Y                         int64\n",
              "dtype: object"
            ]
          },
          "metadata": {},
          "execution_count": 64
        }
      ]
    },
    {
      "cell_type": "code",
      "metadata": {
        "colab": {
          "base_uri": "https://localhost:8080/"
        },
        "id": "FF8tvaYpDfpk",
        "outputId": "fe59070c-f18b-4ebb-939b-5553f4bb4ff9"
      },
      "source": [
        "DF_raw.isna().sum()"
      ],
      "execution_count": 65,
      "outputs": [
        {
          "output_type": "execute_result",
          "data": {
            "text/plain": [
              "fixed_acidity           0\n",
              "volatile_acidity        0\n",
              "citric_acid             0\n",
              "residual_sugar          0\n",
              "chlorides               0\n",
              "free_sulfur_dioxide     0\n",
              "total_sulfur_dioxide    0\n",
              "density                 0\n",
              "pH                      0\n",
              "sulphates               0\n",
              "alcohol                 0\n",
              "Y                       0\n",
              "dtype: int64"
            ]
          },
          "metadata": {},
          "execution_count": 65
        }
      ]
    },
    {
      "cell_type": "code",
      "metadata": {
        "id": "1PW65gV5D1OV"
      },
      "source": [
        "DF = DF_raw.sample(frac = 0.85, random_state = my_seed)\n",
        "DF_predict = DF_raw.drop(DF.index)"
      ],
      "execution_count": 66,
      "outputs": []
    },
    {
      "cell_type": "code",
      "metadata": {
        "colab": {
          "base_uri": "https://localhost:8080/",
          "height": 300
        },
        "id": "vZPPsvk5D70g",
        "outputId": "cb05cba2-a980-4c8b-ed90-403167e767c9"
      },
      "source": [
        "DF.describe()"
      ],
      "execution_count": 67,
      "outputs": [
        {
          "output_type": "execute_result",
          "data": {
            "text/html": [
              "<div>\n",
              "<style scoped>\n",
              "    .dataframe tbody tr th:only-of-type {\n",
              "        vertical-align: middle;\n",
              "    }\n",
              "\n",
              "    .dataframe tbody tr th {\n",
              "        vertical-align: top;\n",
              "    }\n",
              "\n",
              "    .dataframe thead th {\n",
              "        text-align: right;\n",
              "    }\n",
              "</style>\n",
              "<table border=\"1\" class=\"dataframe\">\n",
              "  <thead>\n",
              "    <tr style=\"text-align: right;\">\n",
              "      <th></th>\n",
              "      <th>fixed_acidity</th>\n",
              "      <th>volatile_acidity</th>\n",
              "      <th>citric_acid</th>\n",
              "      <th>residual_sugar</th>\n",
              "      <th>chlorides</th>\n",
              "      <th>free_sulfur_dioxide</th>\n",
              "      <th>total_sulfur_dioxide</th>\n",
              "      <th>density</th>\n",
              "      <th>pH</th>\n",
              "      <th>sulphates</th>\n",
              "      <th>alcohol</th>\n",
              "      <th>Y</th>\n",
              "    </tr>\n",
              "  </thead>\n",
              "  <tbody>\n",
              "    <tr>\n",
              "      <th>count</th>\n",
              "      <td>1359.000000</td>\n",
              "      <td>1359.000000</td>\n",
              "      <td>1359.000000</td>\n",
              "      <td>1359.000000</td>\n",
              "      <td>1359.000000</td>\n",
              "      <td>1359.000000</td>\n",
              "      <td>1359.000000</td>\n",
              "      <td>1359.000000</td>\n",
              "      <td>1359.000000</td>\n",
              "      <td>1359.000000</td>\n",
              "      <td>1359.000000</td>\n",
              "      <td>1359.000000</td>\n",
              "    </tr>\n",
              "    <tr>\n",
              "      <th>mean</th>\n",
              "      <td>8.282561</td>\n",
              "      <td>0.528503</td>\n",
              "      <td>0.268506</td>\n",
              "      <td>2.501288</td>\n",
              "      <td>0.087788</td>\n",
              "      <td>16.063282</td>\n",
              "      <td>47.189845</td>\n",
              "      <td>0.996716</td>\n",
              "      <td>3.313297</td>\n",
              "      <td>0.659007</td>\n",
              "      <td>10.410755</td>\n",
              "      <td>0.524650</td>\n",
              "    </tr>\n",
              "    <tr>\n",
              "      <th>std</th>\n",
              "      <td>1.716960</td>\n",
              "      <td>0.178512</td>\n",
              "      <td>0.193256</td>\n",
              "      <td>1.370224</td>\n",
              "      <td>0.047647</td>\n",
              "      <td>10.591927</td>\n",
              "      <td>33.564421</td>\n",
              "      <td>0.001873</td>\n",
              "      <td>0.156033</td>\n",
              "      <td>0.171438</td>\n",
              "      <td>1.052374</td>\n",
              "      <td>0.499576</td>\n",
              "    </tr>\n",
              "    <tr>\n",
              "      <th>min</th>\n",
              "      <td>4.600000</td>\n",
              "      <td>0.120000</td>\n",
              "      <td>0.000000</td>\n",
              "      <td>0.900000</td>\n",
              "      <td>0.012000</td>\n",
              "      <td>1.000000</td>\n",
              "      <td>6.000000</td>\n",
              "      <td>0.990070</td>\n",
              "      <td>2.740000</td>\n",
              "      <td>0.330000</td>\n",
              "      <td>8.400000</td>\n",
              "      <td>0.000000</td>\n",
              "    </tr>\n",
              "    <tr>\n",
              "      <th>25%</th>\n",
              "      <td>7.100000</td>\n",
              "      <td>0.400000</td>\n",
              "      <td>0.090000</td>\n",
              "      <td>1.900000</td>\n",
              "      <td>0.070000</td>\n",
              "      <td>7.000000</td>\n",
              "      <td>22.000000</td>\n",
              "      <td>0.995600</td>\n",
              "      <td>3.210000</td>\n",
              "      <td>0.550000</td>\n",
              "      <td>9.500000</td>\n",
              "      <td>0.000000</td>\n",
              "    </tr>\n",
              "    <tr>\n",
              "      <th>50%</th>\n",
              "      <td>7.900000</td>\n",
              "      <td>0.520000</td>\n",
              "      <td>0.250000</td>\n",
              "      <td>2.200000</td>\n",
              "      <td>0.079000</td>\n",
              "      <td>14.000000</td>\n",
              "      <td>38.000000</td>\n",
              "      <td>0.996720</td>\n",
              "      <td>3.310000</td>\n",
              "      <td>0.620000</td>\n",
              "      <td>10.100000</td>\n",
              "      <td>1.000000</td>\n",
              "    </tr>\n",
              "    <tr>\n",
              "      <th>75%</th>\n",
              "      <td>9.200000</td>\n",
              "      <td>0.640000</td>\n",
              "      <td>0.420000</td>\n",
              "      <td>2.600000</td>\n",
              "      <td>0.090000</td>\n",
              "      <td>22.000000</td>\n",
              "      <td>63.500000</td>\n",
              "      <td>0.997800</td>\n",
              "      <td>3.405000</td>\n",
              "      <td>0.730000</td>\n",
              "      <td>11.100000</td>\n",
              "      <td>1.000000</td>\n",
              "    </tr>\n",
              "    <tr>\n",
              "      <th>max</th>\n",
              "      <td>15.600000</td>\n",
              "      <td>1.580000</td>\n",
              "      <td>1.000000</td>\n",
              "      <td>15.400000</td>\n",
              "      <td>0.610000</td>\n",
              "      <td>72.000000</td>\n",
              "      <td>289.000000</td>\n",
              "      <td>1.003690</td>\n",
              "      <td>4.010000</td>\n",
              "      <td>2.000000</td>\n",
              "      <td>14.000000</td>\n",
              "      <td>1.000000</td>\n",
              "    </tr>\n",
              "  </tbody>\n",
              "</table>\n",
              "</div>"
            ],
            "text/plain": [
              "       fixed_acidity  volatile_acidity  ...      alcohol            Y\n",
              "count    1359.000000       1359.000000  ...  1359.000000  1359.000000\n",
              "mean        8.282561          0.528503  ...    10.410755     0.524650\n",
              "std         1.716960          0.178512  ...     1.052374     0.499576\n",
              "min         4.600000          0.120000  ...     8.400000     0.000000\n",
              "25%         7.100000          0.400000  ...     9.500000     0.000000\n",
              "50%         7.900000          0.520000  ...    10.100000     1.000000\n",
              "75%         9.200000          0.640000  ...    11.100000     1.000000\n",
              "max        15.600000          1.580000  ...    14.000000     1.000000\n",
              "\n",
              "[8 rows x 12 columns]"
            ]
          },
          "metadata": {},
          "execution_count": 67
        }
      ]
    },
    {
      "cell_type": "markdown",
      "metadata": {
        "id": "9AFeNIVtEpjZ"
      },
      "source": [
        "# SVM\n",
        "\n",
        "В качестве альтернативных моделей рассмотрим SVM с различными вариантами ядер и логистическую регрессию. Причём предварительно преобразуем пространство исходных показателей с помощью метода главных компонент"
      ]
    },
    {
      "cell_type": "code",
      "metadata": {
        "colab": {
          "base_uri": "https://localhost:8080/"
        },
        "id": "cM-VgkNvFJQY",
        "outputId": "b5c61d8b-fc1e-480c-c560-836461b91054"
      },
      "source": [
        "# стандартизация\n",
        "sc = StandardScaler()\n",
        "X_train_std = sc.fit_transform(DF.iloc[:, 0:14].values)\n",
        "\n",
        "# оцениваем объяснённую главными компонентами дисперсию\n",
        "pca = PCA()\n",
        "X_train_pca = pca.fit_transform(X_train_std)\n",
        "\n",
        "# считаем доли объяснённой дисперсии\n",
        "frac_var_expl = pca.explained_variance_ratio_\n",
        "print('Доли объяснённой дисперсии по компонентам в PLS:\\n',\n",
        "    np.around(frac_var_expl, 3),\n",
        "    '\\nОбщая сумма долей:', np.around(sum(frac_var_expl), 3))"
      ],
      "execution_count": 68,
      "outputs": [
        {
          "output_type": "stream",
          "name": "stdout",
          "text": [
            "Доли объяснённой дисперсии по компонентам в PLS:\n",
            " [0.258 0.187 0.139 0.101 0.082 0.055 0.052 0.045 0.035 0.028 0.015 0.005] \n",
            "Общая сумма долей: 1.0\n"
          ]
        }
      ]
    },
    {
      "cell_type": "markdown",
      "metadata": {
        "id": "M1QhG-YSNIyT"
      },
      "source": [
        "Теперь объединим функции-преобразователи и оценщики в конвейер с помощью Pipeline и оценим точность логистической регрессии с помощью перекрёстной проверки"
      ]
    },
    {
      "cell_type": "markdown",
      "metadata": {
        "id": "dYZziGJUNY6c"
      },
      "source": [
        "# Модель логистической регрессии с перекрёстной проверкой"
      ]
    },
    {
      "cell_type": "code",
      "metadata": {
        "colab": {
          "base_uri": "https://localhost:8080/"
        },
        "id": "mXRykGGZNaw7",
        "outputId": "78f8af70-8535-42ec-8a6c-2f2f52ee0282"
      },
      "source": [
        "# данные для обучения моделей\n",
        "X_train = DF.iloc[:, 0:12] \n",
        "y_train = DF.iloc[:, -1]\n",
        "\n",
        "# объединяем в конвейер шкалирование, ГК с 2 компонентами и логит\n",
        "pipe_lr = make_pipeline(StandardScaler(),\n",
        "                        PCA(n_components = 2),\n",
        "                        LogisticRegression(random_state = my_seed, \n",
        "                                           solver = 'lbfgs'))\n",
        "\n",
        "# будем сохранять точность моделей в один массив\n",
        "score = list()\n",
        "score_models = list()\n",
        "\n",
        "# считаем точность с перекрёстной проверкой, показатель Acc\n",
        "cv = cross_val_score(estimator = pipe_lr, X = X_train, y = y_train, \n",
        "                     cv = 5, scoring='accuracy')\n",
        "\n",
        "# записываем точность\n",
        "score.append(np.around(np.mean(cv), 3)) \n",
        "score_models.append('sc_pca_logit')\n",
        "print('Acc с перекрёстной проверкой',\n",
        "      '\\nдля модели', score_models[0], ':', score[0])"
      ],
      "execution_count": 69,
      "outputs": [
        {
          "output_type": "stream",
          "name": "stdout",
          "text": [
            "Acc с перекрёстной проверкой \n",
            "для модели sc_pca_logit : 0.834\n"
          ]
        }
      ]
    },
    {
      "cell_type": "code",
      "metadata": {
        "colab": {
          "base_uri": "https://localhost:8080/",
          "height": 424
        },
        "id": "YPiyZPHTNepK",
        "outputId": "da0082d9-e439-4a50-f46b-da073713e470"
      },
      "source": [
        "X_train"
      ],
      "execution_count": 70,
      "outputs": [
        {
          "output_type": "execute_result",
          "data": {
            "text/html": [
              "<div>\n",
              "<style scoped>\n",
              "    .dataframe tbody tr th:only-of-type {\n",
              "        vertical-align: middle;\n",
              "    }\n",
              "\n",
              "    .dataframe tbody tr th {\n",
              "        vertical-align: top;\n",
              "    }\n",
              "\n",
              "    .dataframe thead th {\n",
              "        text-align: right;\n",
              "    }\n",
              "</style>\n",
              "<table border=\"1\" class=\"dataframe\">\n",
              "  <thead>\n",
              "    <tr style=\"text-align: right;\">\n",
              "      <th></th>\n",
              "      <th>fixed_acidity</th>\n",
              "      <th>volatile_acidity</th>\n",
              "      <th>citric_acid</th>\n",
              "      <th>residual_sugar</th>\n",
              "      <th>chlorides</th>\n",
              "      <th>free_sulfur_dioxide</th>\n",
              "      <th>total_sulfur_dioxide</th>\n",
              "      <th>density</th>\n",
              "      <th>pH</th>\n",
              "      <th>sulphates</th>\n",
              "      <th>alcohol</th>\n",
              "      <th>Y</th>\n",
              "    </tr>\n",
              "  </thead>\n",
              "  <tbody>\n",
              "    <tr>\n",
              "      <th>1518</th>\n",
              "      <td>7.4</td>\n",
              "      <td>0.470</td>\n",
              "      <td>0.46</td>\n",
              "      <td>2.2</td>\n",
              "      <td>0.114</td>\n",
              "      <td>7.0</td>\n",
              "      <td>20.0</td>\n",
              "      <td>0.99647</td>\n",
              "      <td>3.32</td>\n",
              "      <td>0.63</td>\n",
              "      <td>10.5</td>\n",
              "      <td>0</td>\n",
              "    </tr>\n",
              "    <tr>\n",
              "      <th>1246</th>\n",
              "      <td>7.4</td>\n",
              "      <td>0.740</td>\n",
              "      <td>0.07</td>\n",
              "      <td>1.7</td>\n",
              "      <td>0.086</td>\n",
              "      <td>15.0</td>\n",
              "      <td>48.0</td>\n",
              "      <td>0.99502</td>\n",
              "      <td>3.12</td>\n",
              "      <td>0.48</td>\n",
              "      <td>10.0</td>\n",
              "      <td>0</td>\n",
              "    </tr>\n",
              "    <tr>\n",
              "      <th>544</th>\n",
              "      <td>14.3</td>\n",
              "      <td>0.310</td>\n",
              "      <td>0.74</td>\n",
              "      <td>1.8</td>\n",
              "      <td>0.075</td>\n",
              "      <td>6.0</td>\n",
              "      <td>15.0</td>\n",
              "      <td>1.00080</td>\n",
              "      <td>2.86</td>\n",
              "      <td>0.79</td>\n",
              "      <td>8.4</td>\n",
              "      <td>1</td>\n",
              "    </tr>\n",
              "    <tr>\n",
              "      <th>1343</th>\n",
              "      <td>7.5</td>\n",
              "      <td>0.510</td>\n",
              "      <td>0.02</td>\n",
              "      <td>1.7</td>\n",
              "      <td>0.084</td>\n",
              "      <td>13.0</td>\n",
              "      <td>31.0</td>\n",
              "      <td>0.99538</td>\n",
              "      <td>3.36</td>\n",
              "      <td>0.54</td>\n",
              "      <td>10.5</td>\n",
              "      <td>1</td>\n",
              "    </tr>\n",
              "    <tr>\n",
              "      <th>428</th>\n",
              "      <td>9.1</td>\n",
              "      <td>0.520</td>\n",
              "      <td>0.33</td>\n",
              "      <td>1.3</td>\n",
              "      <td>0.070</td>\n",
              "      <td>9.0</td>\n",
              "      <td>30.0</td>\n",
              "      <td>0.99780</td>\n",
              "      <td>3.24</td>\n",
              "      <td>0.60</td>\n",
              "      <td>9.3</td>\n",
              "      <td>0</td>\n",
              "    </tr>\n",
              "    <tr>\n",
              "      <th>...</th>\n",
              "      <td>...</td>\n",
              "      <td>...</td>\n",
              "      <td>...</td>\n",
              "      <td>...</td>\n",
              "      <td>...</td>\n",
              "      <td>...</td>\n",
              "      <td>...</td>\n",
              "      <td>...</td>\n",
              "      <td>...</td>\n",
              "      <td>...</td>\n",
              "      <td>...</td>\n",
              "      <td>...</td>\n",
              "    </tr>\n",
              "    <tr>\n",
              "      <th>1169</th>\n",
              "      <td>7.6</td>\n",
              "      <td>0.500</td>\n",
              "      <td>0.29</td>\n",
              "      <td>2.3</td>\n",
              "      <td>0.086</td>\n",
              "      <td>5.0</td>\n",
              "      <td>14.0</td>\n",
              "      <td>0.99502</td>\n",
              "      <td>3.32</td>\n",
              "      <td>0.62</td>\n",
              "      <td>11.5</td>\n",
              "      <td>1</td>\n",
              "    </tr>\n",
              "    <tr>\n",
              "      <th>1228</th>\n",
              "      <td>5.1</td>\n",
              "      <td>0.420</td>\n",
              "      <td>0.00</td>\n",
              "      <td>1.8</td>\n",
              "      <td>0.044</td>\n",
              "      <td>18.0</td>\n",
              "      <td>88.0</td>\n",
              "      <td>0.99157</td>\n",
              "      <td>3.68</td>\n",
              "      <td>0.73</td>\n",
              "      <td>13.6</td>\n",
              "      <td>1</td>\n",
              "    </tr>\n",
              "    <tr>\n",
              "      <th>515</th>\n",
              "      <td>8.5</td>\n",
              "      <td>0.655</td>\n",
              "      <td>0.49</td>\n",
              "      <td>6.1</td>\n",
              "      <td>0.122</td>\n",
              "      <td>34.0</td>\n",
              "      <td>151.0</td>\n",
              "      <td>1.00100</td>\n",
              "      <td>3.31</td>\n",
              "      <td>1.14</td>\n",
              "      <td>9.3</td>\n",
              "      <td>0</td>\n",
              "    </tr>\n",
              "    <tr>\n",
              "      <th>826</th>\n",
              "      <td>7.5</td>\n",
              "      <td>0.270</td>\n",
              "      <td>0.34</td>\n",
              "      <td>2.3</td>\n",
              "      <td>0.050</td>\n",
              "      <td>4.0</td>\n",
              "      <td>8.0</td>\n",
              "      <td>0.99510</td>\n",
              "      <td>3.40</td>\n",
              "      <td>0.64</td>\n",
              "      <td>11.0</td>\n",
              "      <td>1</td>\n",
              "    </tr>\n",
              "    <tr>\n",
              "      <th>1340</th>\n",
              "      <td>7.5</td>\n",
              "      <td>0.510</td>\n",
              "      <td>0.02</td>\n",
              "      <td>1.7</td>\n",
              "      <td>0.084</td>\n",
              "      <td>13.0</td>\n",
              "      <td>31.0</td>\n",
              "      <td>0.99538</td>\n",
              "      <td>3.36</td>\n",
              "      <td>0.54</td>\n",
              "      <td>10.5</td>\n",
              "      <td>1</td>\n",
              "    </tr>\n",
              "  </tbody>\n",
              "</table>\n",
              "<p>1359 rows × 12 columns</p>\n",
              "</div>"
            ],
            "text/plain": [
              "      fixed_acidity  volatile_acidity  citric_acid  ...  sulphates  alcohol  Y\n",
              "1518            7.4             0.470         0.46  ...       0.63     10.5  0\n",
              "1246            7.4             0.740         0.07  ...       0.48     10.0  0\n",
              "544            14.3             0.310         0.74  ...       0.79      8.4  1\n",
              "1343            7.5             0.510         0.02  ...       0.54     10.5  1\n",
              "428             9.1             0.520         0.33  ...       0.60      9.3  0\n",
              "...             ...               ...          ...  ...        ...      ... ..\n",
              "1169            7.6             0.500         0.29  ...       0.62     11.5  1\n",
              "1228            5.1             0.420         0.00  ...       0.73     13.6  1\n",
              "515             8.5             0.655         0.49  ...       1.14      9.3  0\n",
              "826             7.5             0.270         0.34  ...       0.64     11.0  1\n",
              "1340            7.5             0.510         0.02  ...       0.54     10.5  1\n",
              "\n",
              "[1359 rows x 12 columns]"
            ]
          },
          "metadata": {},
          "execution_count": 70
        }
      ]
    },
    {
      "cell_type": "code",
      "metadata": {
        "colab": {
          "base_uri": "https://localhost:8080/"
        },
        "id": "VeuXtiQHOPy4",
        "outputId": "c6391190-3d1a-462f-abdc-eefefdb6ea54"
      },
      "source": [
        "y_train\n"
      ],
      "execution_count": 71,
      "outputs": [
        {
          "output_type": "execute_result",
          "data": {
            "text/plain": [
              "1518    0\n",
              "1246    0\n",
              "544     1\n",
              "1343    1\n",
              "428     0\n",
              "       ..\n",
              "1169    1\n",
              "1228    1\n",
              "515     0\n",
              "826     1\n",
              "1340    1\n",
              "Name: Y, Length: 1359, dtype: int64"
            ]
          },
          "metadata": {},
          "execution_count": 71
        }
      ]
    },
    {
      "cell_type": "markdown",
      "metadata": {
        "id": "DlZ69I_VOXU6"
      },
      "source": [
        "X_train и y_train удовлетворяют условию."
      ]
    },
    {
      "cell_type": "markdown",
      "metadata": {
        "id": "Wyk11d4fOm1W"
      },
      "source": [
        "# SVM с перекрёстной проверкой"
      ]
    },
    {
      "cell_type": "code",
      "metadata": {
        "colab": {
          "base_uri": "https://localhost:8080/"
        },
        "id": "oKUdYe8NOuoJ",
        "outputId": "5a9215a7-be27-4c50-d2db-9d9da2e60e00"
      },
      "source": [
        "pipe_svc = make_pipeline(StandardScaler(), \n",
        "                         SVC(random_state = my_seed))\n",
        "\n",
        "# настроим параметры SVM с помощью сеточного поиска\n",
        "param_range = [0.0001, 0.001, 0.01, 0.1] \n",
        "param_grid = [{'svc__C': param_range,\n",
        "               'svc__kernel': ['linear']},\n",
        "              {'svc__C': param_range,\n",
        "               'svc__gamma': param_range,\n",
        "               'svc__kernel': ['rbf']},\n",
        "              {'svc__C': param_range,\n",
        "               'svc__gamma': param_range,\n",
        "               'svc__degree' : [2, 3],\n",
        "               'svc__kernel': ['poly']}]\n",
        "\n",
        "# разбиения для перекрёстной проверки\n",
        "kfold = KFold(n_splits = 5, random_state = my_seed, shuffle = True)\n",
        "gs = GridSearchCV(estimator = pipe_svc, param_grid = param_grid, \n",
        "                  scoring = 'accuracy', refit = True, cv = kfold, \n",
        "                  n_jobs = -1)\n",
        "\n",
        "# таймер\n",
        "tic = time.perf_counter()\n",
        "\n",
        "# запускаем сеточный поиск\n",
        "gs = gs.fit(X_train, y_train)\n",
        "\n",
        "# таймер\n",
        "toc = time.perf_counter()\n",
        "print(f\"Сеточный поиск занял {toc - tic:0.2f} секунд\", sep='')"
      ],
      "execution_count": 72,
      "outputs": [
        {
          "output_type": "stream",
          "name": "stdout",
          "text": [
            "Сеточный поиск занял 13.86 секунд\n"
          ]
        }
      ]
    },
    {
      "cell_type": "code",
      "metadata": {
        "colab": {
          "base_uri": "https://localhost:8080/"
        },
        "id": "FS_WBYY0OzPl",
        "outputId": "a42943e4-0db1-4135-f31f-254ba2cae645"
      },
      "source": [
        "# точность лучшей модели\n",
        "np.around(gs.best_score_, 3)"
      ],
      "execution_count": 73,
      "outputs": [
        {
          "output_type": "execute_result",
          "data": {
            "text/plain": [
              "1.0"
            ]
          },
          "metadata": {},
          "execution_count": 73
        }
      ]
    },
    {
      "cell_type": "markdown",
      "metadata": {
        "id": "BlpTSoIiO_i6"
      },
      "source": [
        "Точность > 96%, изменялся лист param_range."
      ]
    },
    {
      "cell_type": "code",
      "metadata": {
        "colab": {
          "base_uri": "https://localhost:8080/",
          "height": 35
        },
        "id": "IP2P0H28PAOP",
        "outputId": "0b2e9239-c644-4a1c-854b-83d9b51958fb"
      },
      "source": [
        "# параметры лучшей модели\n",
        "# * ядерная функция \n",
        "gs.best_estimator_.get_params()['svc__kernel']"
      ],
      "execution_count": 74,
      "outputs": [
        {
          "output_type": "execute_result",
          "data": {
            "application/vnd.google.colaboratory.intrinsic+json": {
              "type": "string"
            },
            "text/plain": [
              "'linear'"
            ]
          },
          "metadata": {},
          "execution_count": 74
        }
      ]
    },
    {
      "cell_type": "code",
      "metadata": {
        "colab": {
          "base_uri": "https://localhost:8080/"
        },
        "id": "2pmosVIjPCKs",
        "outputId": "371d6db8-db0e-4f60-f338-0ce9ad582c13"
      },
      "source": [
        "# * параметр регуляризации\n",
        "gs.best_estimator_.get_params()['svc__C']"
      ],
      "execution_count": 75,
      "outputs": [
        {
          "output_type": "execute_result",
          "data": {
            "text/plain": [
              "0.001"
            ]
          },
          "metadata": {},
          "execution_count": 75
        }
      ]
    },
    {
      "cell_type": "code",
      "metadata": {
        "colab": {
          "base_uri": "https://localhost:8080/",
          "height": 35
        },
        "id": "ODmJKkXuPEai",
        "outputId": "c0ba59bd-fac3-4590-d4b6-e699ea54daa7"
      },
      "source": [
        "# * коэффициент ядерной функции (для ядер 'rbf', 'poly' и 'sigmoid')\n",
        "gs.best_estimator_.get_params()['svc__gamma']"
      ],
      "execution_count": 76,
      "outputs": [
        {
          "output_type": "execute_result",
          "data": {
            "application/vnd.google.colaboratory.intrinsic+json": {
              "type": "string"
            },
            "text/plain": [
              "'scale'"
            ]
          },
          "metadata": {},
          "execution_count": 76
        }
      ]
    },
    {
      "cell_type": "code",
      "metadata": {
        "colab": {
          "base_uri": "https://localhost:8080/"
        },
        "id": "Pm4oX9hAPG1B",
        "outputId": "fc8ec25c-7a87-4f86-d31a-8b1bcdf5c389"
      },
      "source": [
        "# * степень полинома (для ядра 'poly')\n",
        "gs.best_estimator_.get_params()['svc__degree']"
      ],
      "execution_count": 77,
      "outputs": [
        {
          "output_type": "execute_result",
          "data": {
            "text/plain": [
              "3"
            ]
          },
          "metadata": {},
          "execution_count": 77
        }
      ]
    },
    {
      "cell_type": "code",
      "metadata": {
        "colab": {
          "base_uri": "https://localhost:8080/"
        },
        "id": "w6tJ5fqYPIoj",
        "outputId": "7e76e997-510e-4c4a-d913-8fe087a0a4b5"
      },
      "source": [
        "score.append(np.around(gs.best_score_,3))\n",
        "score_models.append('sc_pca_svc')\n",
        "\n",
        "print('Acc с перекрёстной проверкой','\\nдля модели',score_models[1],':',score[1])"
      ],
      "execution_count": 78,
      "outputs": [
        {
          "output_type": "stream",
          "name": "stdout",
          "text": [
            "Acc с перекрёстной проверкой \n",
            "для модели sc_pca_svc : 1.0\n"
          ]
        }
      ]
    },
    {
      "cell_type": "markdown",
      "metadata": {
        "id": "S8OoX9RMPK4c"
      },
      "source": [
        "# **Метод kNN**\n",
        "Реализуем метод k-ближайших соседей с преобразованием PCA."
      ]
    },
    {
      "cell_type": "markdown",
      "metadata": {
        "id": "Jfbe5Zi7PSgD"
      },
      "source": [
        "Загрузим доп пакеты"
      ]
    },
    {
      "cell_type": "code",
      "metadata": {
        "id": "i5WO5-SpPL-M"
      },
      "source": [
        "from sklearn.neighbors import KNeighborsClassifier\n",
        "from sklearn.pipeline import Pipeline"
      ],
      "execution_count": 79,
      "outputs": []
    },
    {
      "cell_type": "code",
      "metadata": {
        "colab": {
          "base_uri": "https://localhost:8080/"
        },
        "id": "2i7yqtCOPU4N",
        "outputId": "e841c53e-a885-40a0-a721-c30499b4f60d"
      },
      "source": [
        "k_range = list(range(1,32))\n",
        "weight_options = [\"uniform\", \"distance\"]\n",
        "\n",
        "pipe_knn = Pipeline(steps=[('standard', StandardScaler()), ('PCA', PCA(n_components = 5)), ('knn', KNeighborsClassifier())])\n",
        "param_grid = {\n",
        "    'knn__n_neighbors': list(range(1,32))\n",
        "}\n",
        "\n",
        "knn = KNeighborsClassifier()\n",
        "kfold = KFold(n_splits = 5, random_state = my_seed, shuffle = True)\n",
        "grid = GridSearchCV(pipe_knn, param_grid, cv=kfold, scoring='accuracy')\n",
        "\n",
        "tic = time.perf_counter()\n",
        "grid.fit(X_train,y_train)\n",
        "toc = time.perf_counter()\n",
        "print(f\"Сеточный поиск занял {toc - tic:0.2f} секунд\", sep='')"
      ],
      "execution_count": 80,
      "outputs": [
        {
          "output_type": "stream",
          "name": "stdout",
          "text": [
            "Сеточный поиск занял 4.46 секунд\n"
          ]
        }
      ]
    },
    {
      "cell_type": "markdown",
      "metadata": {
        "id": "H6DdcN2rPrTC"
      },
      "source": [
        "В ходе обучения модели я менял такие параметры как: n_splits (не дало особого увеличения точности) и n_components в PCA (дало прибавку к точности с 0.834 до 0.904)"
      ]
    },
    {
      "cell_type": "code",
      "metadata": {
        "colab": {
          "base_uri": "https://localhost:8080/"
        },
        "id": "bRFKcwBQPvxB",
        "outputId": "e9c3539f-fb32-420f-e0fe-a0bf0b8556fa"
      },
      "source": [
        "score.append(np.around(grid.best_score_,3))\n",
        "score_models.append('sc_pca_knn')\n",
        "\n",
        "print('Acc с перекрёстной проверкой','\\nдля модели',score_models[1],':',score[1])"
      ],
      "execution_count": 81,
      "outputs": [
        {
          "output_type": "stream",
          "name": "stdout",
          "text": [
            "Acc с перекрёстной проверкой \n",
            "для модели sc_pca_svc : 1.0\n"
          ]
        }
      ]
    },
    {
      "cell_type": "markdown",
      "metadata": {
        "id": "9yi2BctHPy8r"
      },
      "source": [
        "# **Прогноз на отложенные наблюдения по лучшей модели**"
      ]
    },
    {
      "cell_type": "markdown",
      "metadata": {
        "id": "s2YC3V1uP1JF"
      },
      "source": [
        "Ещё раз посмотрим на точность построенных моделей."
      ]
    },
    {
      "cell_type": "code",
      "metadata": {
        "colab": {
          "base_uri": "https://localhost:8080/",
          "height": 143
        },
        "id": "wYvmg4FMP3JQ",
        "outputId": "189699b5-b290-4782-8060-0dfbae90ad12"
      },
      "source": [
        "# сводка по точности моделей\n",
        "pd.DataFrame({'Модель' : score_models, 'Acc' : score})"
      ],
      "execution_count": 82,
      "outputs": [
        {
          "output_type": "execute_result",
          "data": {
            "text/html": [
              "<div>\n",
              "<style scoped>\n",
              "    .dataframe tbody tr th:only-of-type {\n",
              "        vertical-align: middle;\n",
              "    }\n",
              "\n",
              "    .dataframe tbody tr th {\n",
              "        vertical-align: top;\n",
              "    }\n",
              "\n",
              "    .dataframe thead th {\n",
              "        text-align: right;\n",
              "    }\n",
              "</style>\n",
              "<table border=\"1\" class=\"dataframe\">\n",
              "  <thead>\n",
              "    <tr style=\"text-align: right;\">\n",
              "      <th></th>\n",
              "      <th>Модель</th>\n",
              "      <th>Acc</th>\n",
              "    </tr>\n",
              "  </thead>\n",
              "  <tbody>\n",
              "    <tr>\n",
              "      <th>0</th>\n",
              "      <td>sc_pca_logit</td>\n",
              "      <td>0.834</td>\n",
              "    </tr>\n",
              "    <tr>\n",
              "      <th>1</th>\n",
              "      <td>sc_pca_svc</td>\n",
              "      <td>1.000</td>\n",
              "    </tr>\n",
              "    <tr>\n",
              "      <th>2</th>\n",
              "      <td>sc_pca_knn</td>\n",
              "      <td>0.904</td>\n",
              "    </tr>\n",
              "  </tbody>\n",
              "</table>\n",
              "</div>"
            ],
            "text/plain": [
              "         Модель    Acc\n",
              "0  sc_pca_logit  0.834\n",
              "1    sc_pca_svc  1.000\n",
              "2    sc_pca_knn  0.904"
            ]
          },
          "metadata": {},
          "execution_count": 82
        }
      ]
    },
    {
      "cell_type": "markdown",
      "metadata": {
        "id": "MuNe_xvrP_7o"
      },
      "source": [
        "Все модели показывают хорошую точность по показателю $Acc$, при этом самой точной оказывается модель PCA + SVC. Сделаем прогноз на отложенные наблюдения."
      ]
    },
    {
      "cell_type": "code",
      "metadata": {
        "colab": {
          "base_uri": "https://localhost:8080/"
        },
        "id": "OULulr11QEkC",
        "outputId": "8d0c1559-48f3-472e-856f-fbc9fe0bca40"
      },
      "source": [
        "# прогноз с помощью лучшей модели ансамбля с SVC\n",
        "y_hat=gs.best_estimator_.predict(X=DF_predict.iloc[:, 0:12])\n",
        "# точность# характеристики точности\n",
        "print(classification_report(DF_predict.iloc[:,-1],y_hat))"
      ],
      "execution_count": 83,
      "outputs": [
        {
          "output_type": "stream",
          "name": "stdout",
          "text": [
            "              precision    recall  f1-score   support\n",
            "\n",
            "           0       1.00      1.00      1.00        98\n",
            "           1       1.00      1.00      1.00       142\n",
            "\n",
            "    accuracy                           1.00       240\n",
            "   macro avg       1.00      1.00      1.00       240\n",
            "weighted avg       1.00      1.00      1.00       240\n",
            "\n"
          ]
        }
      ]
    }
  ]
}